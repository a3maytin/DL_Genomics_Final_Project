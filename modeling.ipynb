{
 "cells": [
  {
   "cell_type": "code",
   "execution_count": 1,
   "metadata": {},
   "outputs": [],
   "source": [
    "import torch\n",
    "from torch.optim.lr_scheduler import ReduceLROnPlateau, OneCycleLR, CyclicLR\n",
    "from torch.utils.data import DataLoader, Dataset\n",
    "from torch.optim import Adamax, Adam, AdamW\n",
    "import numpy as np\n",
    "import pickle\n",
    "import json\n",
    "import random\n",
    "import pandas as pd"
   ]
  },
  {
   "cell_type": "code",
   "execution_count": 11,
   "metadata": {},
   "outputs": [],
   "source": [
    "def load_data(cell_type):\n",
    "    data_filepath = f'/users/acmaytin/csci2952g/final_project/data/preprocessing_output/tensors_{cell_type}.pkl'\n",
    "\n",
    "    with open(data_filepath, \"rb\") as train_test_file:\n",
    "        X_train_tensor = pickle.load(train_test_file)\n",
    "        X_test_tensor = pickle.load(train_test_file)\n",
    "        X_val_tensor = pickle.load(train_test_file)\n",
    "        y_train_tensor = pickle.load(train_test_file)\n",
    "        y_val_tensor = pickle.load(train_test_file)\n",
    "        y_test_tensor = pickle.load(train_test_file)\n",
    "\n",
    "        return X_train_tensor, X_test_tensor, X_val_tensor, y_train_tensor, y_val_tensor, y_test_tensor"
   ]
  },
  {
   "cell_type": "code",
   "execution_count": 12,
   "metadata": {},
   "outputs": [],
   "source": [
    "#Example Use:\n",
    "X_train_tensor, X_test_tensor, X_val_tensor, y_train_tensor, y_val_tensor, y_test_tensor = load_data('microglial')"
   ]
  }
 ],
 "metadata": {
  "kernelspec": {
   "display_name": "myenv",
   "language": "python",
   "name": "python3"
  },
  "language_info": {
   "codemirror_mode": {
    "name": "ipython",
    "version": 3
   },
   "file_extension": ".py",
   "mimetype": "text/x-python",
   "name": "python",
   "nbconvert_exporter": "python",
   "pygments_lexer": "ipython3",
   "version": "3.9.16"
  }
 },
 "nbformat": 4,
 "nbformat_minor": 2
}
