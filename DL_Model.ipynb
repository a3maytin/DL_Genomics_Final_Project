{
 "cells": [
  {
   "cell_type": "code",
   "execution_count": 15,
   "id": "3cd3612d-41a1-4ada-9528-486a6c9d157e",
   "metadata": {},
   "outputs": [],
   "source": [
    "import pickle \n",
    "\n",
    "#use rb not wb \n",
    "with open(\"csci2952g/final_project/data/preprocessing_output/final_dataframes_astrocyte-Copy2.pkl\", \"rb\") as file:\n",
    "    data = pickle.load(file)"
   ]
  },
  {
   "cell_type": "code",
   "execution_count": 16,
   "id": "aaba6f12-d0c2-44c3-bc04-f113bc2feb2f",
   "metadata": {},
   "outputs": [
    {
     "data": {
      "text/html": [
       "<div>\n",
       "<style scoped>\n",
       "    .dataframe tbody tr th:only-of-type {\n",
       "        vertical-align: middle;\n",
       "    }\n",
       "\n",
       "    .dataframe tbody tr th {\n",
       "        vertical-align: top;\n",
       "    }\n",
       "\n",
       "    .dataframe thead th {\n",
       "        text-align: right;\n",
       "    }\n",
       "</style>\n",
       "<table border=\"1\" class=\"dataframe\">\n",
       "  <thead>\n",
       "    <tr style=\"text-align: right;\">\n",
       "      <th></th>\n",
       "      <th>SKI</th>\n",
       "      <th>WASF2</th>\n",
       "      <th>SLC25A33</th>\n",
       "      <th>EYA3</th>\n",
       "      <th>PLA2G5</th>\n",
       "      <th>AGO4</th>\n",
       "      <th>FBXO2</th>\n",
       "      <th>PLPP3</th>\n",
       "      <th>FOXJ3</th>\n",
       "      <th>LMO4</th>\n",
       "      <th>...</th>\n",
       "      <th>NHS</th>\n",
       "      <th>TCEAL4</th>\n",
       "      <th>STS</th>\n",
       "      <th>ZMAT1</th>\n",
       "      <th>USP9Y</th>\n",
       "      <th>KDM5D</th>\n",
       "      <th>RPS4Y1</th>\n",
       "      <th>UTY</th>\n",
       "      <th>NLGN4Y</th>\n",
       "      <th>ENSG00000273748.1</th>\n",
       "    </tr>\n",
       "  </thead>\n",
       "  <tbody>\n",
       "    <tr>\n",
       "      <th>TACCGAATCAGACCGC-C0087</th>\n",
       "      <td>0.123471</td>\n",
       "      <td>0</td>\n",
       "      <td>0.343681</td>\n",
       "      <td>0</td>\n",
       "      <td>0.2086</td>\n",
       "      <td>0</td>\n",
       "      <td>0</td>\n",
       "      <td>0.370375</td>\n",
       "      <td>0.312091</td>\n",
       "      <td>0.360467</td>\n",
       "      <td>...</td>\n",
       "      <td>0</td>\n",
       "      <td>0</td>\n",
       "      <td>0</td>\n",
       "      <td>0.24277</td>\n",
       "      <td>0.126522</td>\n",
       "      <td>0.360396</td>\n",
       "      <td>0</td>\n",
       "      <td>0.430923</td>\n",
       "      <td>0.235672</td>\n",
       "      <td>0.125003</td>\n",
       "    </tr>\n",
       "    <tr>\n",
       "      <th>CGTTCTGTCAATACCG-C0018</th>\n",
       "      <td>0</td>\n",
       "      <td>0</td>\n",
       "      <td>0</td>\n",
       "      <td>0</td>\n",
       "      <td>0</td>\n",
       "      <td>0</td>\n",
       "      <td>0</td>\n",
       "      <td>0</td>\n",
       "      <td>0</td>\n",
       "      <td>0</td>\n",
       "      <td>...</td>\n",
       "      <td>0</td>\n",
       "      <td>0</td>\n",
       "      <td>0</td>\n",
       "      <td>0</td>\n",
       "      <td>0.645859</td>\n",
       "      <td>0</td>\n",
       "      <td>0</td>\n",
       "      <td>0</td>\n",
       "      <td>0</td>\n",
       "      <td>0</td>\n",
       "    </tr>\n",
       "    <tr>\n",
       "      <th>GCACATACACTGGACC-C0058</th>\n",
       "      <td>0.411201</td>\n",
       "      <td>0.251949</td>\n",
       "      <td>0</td>\n",
       "      <td>0.275677</td>\n",
       "      <td>0</td>\n",
       "      <td>0</td>\n",
       "      <td>0</td>\n",
       "      <td>0</td>\n",
       "      <td>0.266085</td>\n",
       "      <td>0</td>\n",
       "      <td>...</td>\n",
       "      <td>0.509949</td>\n",
       "      <td>0</td>\n",
       "      <td>0</td>\n",
       "      <td>0</td>\n",
       "      <td>0</td>\n",
       "      <td>0</td>\n",
       "      <td>0</td>\n",
       "      <td>0</td>\n",
       "      <td>0</td>\n",
       "      <td>0</td>\n",
       "    </tr>\n",
       "    <tr>\n",
       "      <th>CATTTATCCCTT-D0044</th>\n",
       "      <td>0</td>\n",
       "      <td>0.567358</td>\n",
       "      <td>0</td>\n",
       "      <td>0.45901</td>\n",
       "      <td>0</td>\n",
       "      <td>0</td>\n",
       "      <td>0</td>\n",
       "      <td>0.364295</td>\n",
       "      <td>0</td>\n",
       "      <td>0</td>\n",
       "      <td>...</td>\n",
       "      <td>0</td>\n",
       "      <td>0</td>\n",
       "      <td>0</td>\n",
       "      <td>0</td>\n",
       "      <td>0.472284</td>\n",
       "      <td>0</td>\n",
       "      <td>0</td>\n",
       "      <td>0</td>\n",
       "      <td>0.398489</td>\n",
       "      <td>0.466614</td>\n",
       "    </tr>\n",
       "    <tr>\n",
       "      <th>TGGCGCAGTCTAGTCA-C0024</th>\n",
       "      <td>0</td>\n",
       "      <td>0</td>\n",
       "      <td>0</td>\n",
       "      <td>0</td>\n",
       "      <td>0</td>\n",
       "      <td>0</td>\n",
       "      <td>0</td>\n",
       "      <td>0.612495</td>\n",
       "      <td>0</td>\n",
       "      <td>0</td>\n",
       "      <td>...</td>\n",
       "      <td>0</td>\n",
       "      <td>0</td>\n",
       "      <td>0</td>\n",
       "      <td>0.329897</td>\n",
       "      <td>0</td>\n",
       "      <td>0</td>\n",
       "      <td>0</td>\n",
       "      <td>0</td>\n",
       "      <td>0</td>\n",
       "      <td>0</td>\n",
       "    </tr>\n",
       "    <tr>\n",
       "      <th>...</th>\n",
       "      <td>...</td>\n",
       "      <td>...</td>\n",
       "      <td>...</td>\n",
       "      <td>...</td>\n",
       "      <td>...</td>\n",
       "      <td>...</td>\n",
       "      <td>...</td>\n",
       "      <td>...</td>\n",
       "      <td>...</td>\n",
       "      <td>...</td>\n",
       "      <td>...</td>\n",
       "      <td>...</td>\n",
       "      <td>...</td>\n",
       "      <td>...</td>\n",
       "      <td>...</td>\n",
       "      <td>...</td>\n",
       "      <td>...</td>\n",
       "      <td>...</td>\n",
       "      <td>...</td>\n",
       "      <td>...</td>\n",
       "      <td>...</td>\n",
       "    </tr>\n",
       "    <tr>\n",
       "      <th>GTTGGTCCCCTC-D0178</th>\n",
       "      <td>0</td>\n",
       "      <td>0</td>\n",
       "      <td>0.578437</td>\n",
       "      <td>0</td>\n",
       "      <td>0</td>\n",
       "      <td>0</td>\n",
       "      <td>0</td>\n",
       "      <td>0.490054</td>\n",
       "      <td>0</td>\n",
       "      <td>0</td>\n",
       "      <td>...</td>\n",
       "      <td>0</td>\n",
       "      <td>0</td>\n",
       "      <td>0</td>\n",
       "      <td>0</td>\n",
       "      <td>0</td>\n",
       "      <td>0</td>\n",
       "      <td>0</td>\n",
       "      <td>0</td>\n",
       "      <td>0.686829</td>\n",
       "      <td>0</td>\n",
       "    </tr>\n",
       "    <tr>\n",
       "      <th>CCGGTGAGTTCAAGGG-C0109</th>\n",
       "      <td>0</td>\n",
       "      <td>0.653477</td>\n",
       "      <td>0</td>\n",
       "      <td>0</td>\n",
       "      <td>0</td>\n",
       "      <td>0</td>\n",
       "      <td>0</td>\n",
       "      <td>0</td>\n",
       "      <td>0</td>\n",
       "      <td>0</td>\n",
       "      <td>...</td>\n",
       "      <td>0</td>\n",
       "      <td>0</td>\n",
       "      <td>0</td>\n",
       "      <td>0.409806</td>\n",
       "      <td>0</td>\n",
       "      <td>0</td>\n",
       "      <td>0</td>\n",
       "      <td>0</td>\n",
       "      <td>0</td>\n",
       "      <td>0</td>\n",
       "    </tr>\n",
       "    <tr>\n",
       "      <th>CTCATCCCTTTA-D0060</th>\n",
       "      <td>0</td>\n",
       "      <td>0</td>\n",
       "      <td>0</td>\n",
       "      <td>0</td>\n",
       "      <td>0</td>\n",
       "      <td>0</td>\n",
       "      <td>0</td>\n",
       "      <td>0</td>\n",
       "      <td>0.598462</td>\n",
       "      <td>0</td>\n",
       "      <td>...</td>\n",
       "      <td>0</td>\n",
       "      <td>0</td>\n",
       "      <td>0</td>\n",
       "      <td>0.344117</td>\n",
       "      <td>0</td>\n",
       "      <td>0</td>\n",
       "      <td>0</td>\n",
       "      <td>0</td>\n",
       "      <td>0</td>\n",
       "      <td>0</td>\n",
       "    </tr>\n",
       "    <tr>\n",
       "      <th>TGATCTTCAATTGAAG-C0116</th>\n",
       "      <td>0</td>\n",
       "      <td>0</td>\n",
       "      <td>0.266324</td>\n",
       "      <td>0</td>\n",
       "      <td>0</td>\n",
       "      <td>0</td>\n",
       "      <td>0</td>\n",
       "      <td>0.458335</td>\n",
       "      <td>0.274402</td>\n",
       "      <td>0</td>\n",
       "      <td>...</td>\n",
       "      <td>0</td>\n",
       "      <td>0</td>\n",
       "      <td>0</td>\n",
       "      <td>0.213453</td>\n",
       "      <td>0</td>\n",
       "      <td>0</td>\n",
       "      <td>0.292099</td>\n",
       "      <td>0.571199</td>\n",
       "      <td>0.442782</td>\n",
       "      <td>0.289004</td>\n",
       "    </tr>\n",
       "    <tr>\n",
       "      <th>GAGATGGAGCTTGTTG-C0107</th>\n",
       "      <td>0</td>\n",
       "      <td>0</td>\n",
       "      <td>0</td>\n",
       "      <td>0</td>\n",
       "      <td>0</td>\n",
       "      <td>0</td>\n",
       "      <td>0</td>\n",
       "      <td>0</td>\n",
       "      <td>0</td>\n",
       "      <td>0</td>\n",
       "      <td>...</td>\n",
       "      <td>0</td>\n",
       "      <td>0</td>\n",
       "      <td>0</td>\n",
       "      <td>0</td>\n",
       "      <td>0</td>\n",
       "      <td>0</td>\n",
       "      <td>0</td>\n",
       "      <td>0</td>\n",
       "      <td>0</td>\n",
       "      <td>0</td>\n",
       "    </tr>\n",
       "  </tbody>\n",
       "</table>\n",
       "<p>2939 rows × 809 columns</p>\n",
       "</div>"
      ],
      "text/plain": [
       "                             SKI     WASF2  SLC25A33      EYA3  PLA2G5  AGO4  \\\n",
       "TACCGAATCAGACCGC-C0087  0.123471         0  0.343681         0  0.2086     0   \n",
       "CGTTCTGTCAATACCG-C0018         0         0         0         0       0     0   \n",
       "GCACATACACTGGACC-C0058  0.411201  0.251949         0  0.275677       0     0   \n",
       "CATTTATCCCTT-D0044             0  0.567358         0   0.45901       0     0   \n",
       "TGGCGCAGTCTAGTCA-C0024         0         0         0         0       0     0   \n",
       "...                          ...       ...       ...       ...     ...   ...   \n",
       "GTTGGTCCCCTC-D0178             0         0  0.578437         0       0     0   \n",
       "CCGGTGAGTTCAAGGG-C0109         0  0.653477         0         0       0     0   \n",
       "CTCATCCCTTTA-D0060             0         0         0         0       0     0   \n",
       "TGATCTTCAATTGAAG-C0116         0         0  0.266324         0       0     0   \n",
       "GAGATGGAGCTTGTTG-C0107         0         0         0         0       0     0   \n",
       "\n",
       "                        FBXO2     PLPP3     FOXJ3      LMO4  ...       NHS  \\\n",
       "TACCGAATCAGACCGC-C0087      0  0.370375  0.312091  0.360467  ...         0   \n",
       "CGTTCTGTCAATACCG-C0018      0         0         0         0  ...         0   \n",
       "GCACATACACTGGACC-C0058      0         0  0.266085         0  ...  0.509949   \n",
       "CATTTATCCCTT-D0044          0  0.364295         0         0  ...         0   \n",
       "TGGCGCAGTCTAGTCA-C0024      0  0.612495         0         0  ...         0   \n",
       "...                       ...       ...       ...       ...  ...       ...   \n",
       "GTTGGTCCCCTC-D0178          0  0.490054         0         0  ...         0   \n",
       "CCGGTGAGTTCAAGGG-C0109      0         0         0         0  ...         0   \n",
       "CTCATCCCTTTA-D0060          0         0  0.598462         0  ...         0   \n",
       "TGATCTTCAATTGAAG-C0116      0  0.458335  0.274402         0  ...         0   \n",
       "GAGATGGAGCTTGTTG-C0107      0         0         0         0  ...         0   \n",
       "\n",
       "                        TCEAL4  STS     ZMAT1     USP9Y     KDM5D    RPS4Y1  \\\n",
       "TACCGAATCAGACCGC-C0087       0    0   0.24277  0.126522  0.360396         0   \n",
       "CGTTCTGTCAATACCG-C0018       0    0         0  0.645859         0         0   \n",
       "GCACATACACTGGACC-C0058       0    0         0         0         0         0   \n",
       "CATTTATCCCTT-D0044           0    0         0  0.472284         0         0   \n",
       "TGGCGCAGTCTAGTCA-C0024       0    0  0.329897         0         0         0   \n",
       "...                        ...  ...       ...       ...       ...       ...   \n",
       "GTTGGTCCCCTC-D0178           0    0         0         0         0         0   \n",
       "CCGGTGAGTTCAAGGG-C0109       0    0  0.409806         0         0         0   \n",
       "CTCATCCCTTTA-D0060           0    0  0.344117         0         0         0   \n",
       "TGATCTTCAATTGAAG-C0116       0    0  0.213453         0         0  0.292099   \n",
       "GAGATGGAGCTTGTTG-C0107       0    0         0         0         0         0   \n",
       "\n",
       "                             UTY    NLGN4Y  ENSG00000273748.1  \n",
       "TACCGAATCAGACCGC-C0087  0.430923  0.235672           0.125003  \n",
       "CGTTCTGTCAATACCG-C0018         0         0                  0  \n",
       "GCACATACACTGGACC-C0058         0         0                  0  \n",
       "CATTTATCCCTT-D0044             0  0.398489           0.466614  \n",
       "TGGCGCAGTCTAGTCA-C0024         0         0                  0  \n",
       "...                          ...       ...                ...  \n",
       "GTTGGTCCCCTC-D0178             0  0.686829                  0  \n",
       "CCGGTGAGTTCAAGGG-C0109         0         0                  0  \n",
       "CTCATCCCTTTA-D0060             0         0                  0  \n",
       "TGATCTTCAATTGAAG-C0116  0.571199  0.442782           0.289004  \n",
       "GAGATGGAGCTTGTTG-C0107         0         0                  0  \n",
       "\n",
       "[2939 rows x 809 columns]"
      ]
     },
     "execution_count": 16,
     "metadata": {},
     "output_type": "execute_result"
    }
   ],
   "source": [
    "data"
   ]
  },
  {
   "cell_type": "code",
   "execution_count": 17,
   "id": "4e818a08-7e61-4791-b05c-060bf891c8cf",
   "metadata": {},
   "outputs": [],
   "source": [
    "with open(\"csci2952g/final_project/data/preprocessing_output/correlation_matrix_astrocyte.pkl\", \"rb\") as file:\n",
    "    correlation_matrix_astrocyte = pickle.load(file)"
   ]
  },
  {
   "cell_type": "code",
   "execution_count": 2,
   "id": "9287f6ce-61a4-46c5-9fc5-f821c4403595",
   "metadata": {},
   "outputs": [],
   "source": [
    "import pickle\n",
    "with open(\"csci2952g/final_project/data/cell_type_pkl_files/astrocyte.pkl\", \"rb\") as file:\n",
    "    astrocyte_df = pickle.load(file)"
   ]
  },
  {
   "cell_type": "code",
   "execution_count": 3,
   "id": "b4e30621-1114-41df-a1d0-8b37cfeb1a24",
   "metadata": {},
   "outputs": [
    {
     "data": {
      "text/html": [
       "<div>\n",
       "<style scoped>\n",
       "    .dataframe tbody tr th:only-of-type {\n",
       "        vertical-align: middle;\n",
       "    }\n",
       "\n",
       "    .dataframe tbody tr th {\n",
       "        vertical-align: top;\n",
       "    }\n",
       "\n",
       "    .dataframe thead th {\n",
       "        text-align: right;\n",
       "    }\n",
       "</style>\n",
       "<table border=\"1\" class=\"dataframe\">\n",
       "  <thead>\n",
       "    <tr style=\"text-align: right;\">\n",
       "      <th></th>\n",
       "      <th>disease</th>\n",
       "      <th>cell_type</th>\n",
       "      <th>Braak.stage</th>\n",
       "      <th>TNFRSF4</th>\n",
       "      <th>TNFRSF18</th>\n",
       "      <th>ATAD3B</th>\n",
       "      <th>PRDM16</th>\n",
       "      <th>ACAP3</th>\n",
       "      <th>PUSL1</th>\n",
       "      <th>PEX10</th>\n",
       "      <th>...</th>\n",
       "      <th>ENSG00000276017.1</th>\n",
       "      <th>ENSG00000277630.4</th>\n",
       "      <th>ENSG00000278384.1</th>\n",
       "      <th>ENSG00000278633.1</th>\n",
       "      <th>ENSG00000276345.1</th>\n",
       "      <th>ENSG00000275063.1</th>\n",
       "      <th>ENSG00000277856.1</th>\n",
       "      <th>ENSG00000271254.7</th>\n",
       "      <th>ENSG00000268674.2</th>\n",
       "      <th>ENSG00000277475.1</th>\n",
       "    </tr>\n",
       "  </thead>\n",
       "  <tbody>\n",
       "    <tr>\n",
       "      <th>AGTACCATCCATCTGC-C0060</th>\n",
       "      <td>Alzheimer disease</td>\n",
       "      <td>astrocyte</td>\n",
       "      <td>IV</td>\n",
       "      <td>0</td>\n",
       "      <td>0</td>\n",
       "      <td>1.057686</td>\n",
       "      <td>1.340132</td>\n",
       "      <td>0</td>\n",
       "      <td>0</td>\n",
       "      <td>0</td>\n",
       "      <td>...</td>\n",
       "      <td>0</td>\n",
       "      <td>0</td>\n",
       "      <td>0</td>\n",
       "      <td>0</td>\n",
       "      <td>0</td>\n",
       "      <td>0</td>\n",
       "      <td>0</td>\n",
       "      <td>0</td>\n",
       "      <td>0</td>\n",
       "      <td>0</td>\n",
       "    </tr>\n",
       "    <tr>\n",
       "      <th>ACATCAGTCTTTAGTC-C0018</th>\n",
       "      <td>normal</td>\n",
       "      <td>astrocyte</td>\n",
       "      <td>II</td>\n",
       "      <td>0</td>\n",
       "      <td>0</td>\n",
       "      <td>0</td>\n",
       "      <td>0</td>\n",
       "      <td>0</td>\n",
       "      <td>0</td>\n",
       "      <td>0</td>\n",
       "      <td>...</td>\n",
       "      <td>0</td>\n",
       "      <td>0</td>\n",
       "      <td>0</td>\n",
       "      <td>0</td>\n",
       "      <td>0</td>\n",
       "      <td>0</td>\n",
       "      <td>0</td>\n",
       "      <td>0</td>\n",
       "      <td>0</td>\n",
       "      <td>0</td>\n",
       "    </tr>\n",
       "    <tr>\n",
       "      <th>CCAATCCAGAATAGGG-C0018</th>\n",
       "      <td>normal</td>\n",
       "      <td>astrocyte</td>\n",
       "      <td>II</td>\n",
       "      <td>0</td>\n",
       "      <td>0</td>\n",
       "      <td>0</td>\n",
       "      <td>0</td>\n",
       "      <td>0</td>\n",
       "      <td>0</td>\n",
       "      <td>0</td>\n",
       "      <td>...</td>\n",
       "      <td>0</td>\n",
       "      <td>0</td>\n",
       "      <td>0</td>\n",
       "      <td>0</td>\n",
       "      <td>0</td>\n",
       "      <td>0</td>\n",
       "      <td>0</td>\n",
       "      <td>0</td>\n",
       "      <td>0</td>\n",
       "      <td>0</td>\n",
       "    </tr>\n",
       "    <tr>\n",
       "      <th>CTAGCCTAGCGTTTAC-C0018</th>\n",
       "      <td>normal</td>\n",
       "      <td>astrocyte</td>\n",
       "      <td>II</td>\n",
       "      <td>0</td>\n",
       "      <td>0</td>\n",
       "      <td>0</td>\n",
       "      <td>0</td>\n",
       "      <td>1.777323</td>\n",
       "      <td>1.777323</td>\n",
       "      <td>0</td>\n",
       "      <td>...</td>\n",
       "      <td>0</td>\n",
       "      <td>0</td>\n",
       "      <td>0</td>\n",
       "      <td>0</td>\n",
       "      <td>0</td>\n",
       "      <td>0</td>\n",
       "      <td>0</td>\n",
       "      <td>0</td>\n",
       "      <td>0</td>\n",
       "      <td>0</td>\n",
       "    </tr>\n",
       "    <tr>\n",
       "      <th>CTGAAACGTCCCTACT-C0018</th>\n",
       "      <td>normal</td>\n",
       "      <td>astrocyte</td>\n",
       "      <td>II</td>\n",
       "      <td>0</td>\n",
       "      <td>0</td>\n",
       "      <td>0</td>\n",
       "      <td>0</td>\n",
       "      <td>0</td>\n",
       "      <td>0</td>\n",
       "      <td>0</td>\n",
       "      <td>...</td>\n",
       "      <td>0</td>\n",
       "      <td>0</td>\n",
       "      <td>0</td>\n",
       "      <td>0</td>\n",
       "      <td>0</td>\n",
       "      <td>0</td>\n",
       "      <td>0</td>\n",
       "      <td>0</td>\n",
       "      <td>0</td>\n",
       "      <td>0</td>\n",
       "    </tr>\n",
       "    <tr>\n",
       "      <th>...</th>\n",
       "      <td>...</td>\n",
       "      <td>...</td>\n",
       "      <td>...</td>\n",
       "      <td>...</td>\n",
       "      <td>...</td>\n",
       "      <td>...</td>\n",
       "      <td>...</td>\n",
       "      <td>...</td>\n",
       "      <td>...</td>\n",
       "      <td>...</td>\n",
       "      <td>...</td>\n",
       "      <td>...</td>\n",
       "      <td>...</td>\n",
       "      <td>...</td>\n",
       "      <td>...</td>\n",
       "      <td>...</td>\n",
       "      <td>...</td>\n",
       "      <td>...</td>\n",
       "      <td>...</td>\n",
       "      <td>...</td>\n",
       "      <td>...</td>\n",
       "    </tr>\n",
       "    <tr>\n",
       "      <th>AACTTCCCGCCG-D0206</th>\n",
       "      <td>normal</td>\n",
       "      <td>astrocyte</td>\n",
       "      <td>III</td>\n",
       "      <td>0</td>\n",
       "      <td>0</td>\n",
       "      <td>0</td>\n",
       "      <td>0</td>\n",
       "      <td>0</td>\n",
       "      <td>0</td>\n",
       "      <td>0</td>\n",
       "      <td>...</td>\n",
       "      <td>0</td>\n",
       "      <td>0</td>\n",
       "      <td>0</td>\n",
       "      <td>0</td>\n",
       "      <td>0</td>\n",
       "      <td>0</td>\n",
       "      <td>0</td>\n",
       "      <td>0</td>\n",
       "      <td>0</td>\n",
       "      <td>0</td>\n",
       "    </tr>\n",
       "    <tr>\n",
       "      <th>AGAAGGACTGCT-D0206</th>\n",
       "      <td>normal</td>\n",
       "      <td>astrocyte</td>\n",
       "      <td>III</td>\n",
       "      <td>0</td>\n",
       "      <td>0</td>\n",
       "      <td>0</td>\n",
       "      <td>0</td>\n",
       "      <td>0</td>\n",
       "      <td>0</td>\n",
       "      <td>0</td>\n",
       "      <td>...</td>\n",
       "      <td>0</td>\n",
       "      <td>0</td>\n",
       "      <td>0</td>\n",
       "      <td>0</td>\n",
       "      <td>0</td>\n",
       "      <td>0</td>\n",
       "      <td>0</td>\n",
       "      <td>0</td>\n",
       "      <td>0</td>\n",
       "      <td>0</td>\n",
       "    </tr>\n",
       "    <tr>\n",
       "      <th>GCTTATGTTGGG-D0206</th>\n",
       "      <td>normal</td>\n",
       "      <td>astrocyte</td>\n",
       "      <td>III</td>\n",
       "      <td>0</td>\n",
       "      <td>0</td>\n",
       "      <td>0</td>\n",
       "      <td>0</td>\n",
       "      <td>0</td>\n",
       "      <td>0</td>\n",
       "      <td>0</td>\n",
       "      <td>...</td>\n",
       "      <td>0</td>\n",
       "      <td>0</td>\n",
       "      <td>0</td>\n",
       "      <td>0</td>\n",
       "      <td>0</td>\n",
       "      <td>0</td>\n",
       "      <td>0</td>\n",
       "      <td>0</td>\n",
       "      <td>0</td>\n",
       "      <td>0</td>\n",
       "    </tr>\n",
       "    <tr>\n",
       "      <th>CTATAGGGTTCGGTAT-C0107</th>\n",
       "      <td>Alzheimer disease</td>\n",
       "      <td>astrocyte</td>\n",
       "      <td>IV</td>\n",
       "      <td>0</td>\n",
       "      <td>0</td>\n",
       "      <td>0</td>\n",
       "      <td>1.368414</td>\n",
       "      <td>1.368414</td>\n",
       "      <td>0</td>\n",
       "      <td>0</td>\n",
       "      <td>...</td>\n",
       "      <td>0</td>\n",
       "      <td>0</td>\n",
       "      <td>0</td>\n",
       "      <td>0</td>\n",
       "      <td>0</td>\n",
       "      <td>0</td>\n",
       "      <td>0</td>\n",
       "      <td>0</td>\n",
       "      <td>0</td>\n",
       "      <td>0</td>\n",
       "    </tr>\n",
       "    <tr>\n",
       "      <th>TTCGATTTCTGC-D0082</th>\n",
       "      <td>Alzheimer disease</td>\n",
       "      <td>astrocyte</td>\n",
       "      <td>VI</td>\n",
       "      <td>0</td>\n",
       "      <td>0</td>\n",
       "      <td>0</td>\n",
       "      <td>0</td>\n",
       "      <td>0</td>\n",
       "      <td>0</td>\n",
       "      <td>0</td>\n",
       "      <td>...</td>\n",
       "      <td>0</td>\n",
       "      <td>0</td>\n",
       "      <td>0</td>\n",
       "      <td>0</td>\n",
       "      <td>0</td>\n",
       "      <td>0</td>\n",
       "      <td>0</td>\n",
       "      <td>0</td>\n",
       "      <td>0</td>\n",
       "      <td>0</td>\n",
       "    </tr>\n",
       "  </tbody>\n",
       "</table>\n",
       "<p>14691 rows × 19996 columns</p>\n",
       "</div>"
      ],
      "text/plain": [
       "                                  disease  cell_type Braak.stage  TNFRSF4  \\\n",
       "AGTACCATCCATCTGC-C0060  Alzheimer disease  astrocyte          IV        0   \n",
       "ACATCAGTCTTTAGTC-C0018             normal  astrocyte          II        0   \n",
       "CCAATCCAGAATAGGG-C0018             normal  astrocyte          II        0   \n",
       "CTAGCCTAGCGTTTAC-C0018             normal  astrocyte          II        0   \n",
       "CTGAAACGTCCCTACT-C0018             normal  astrocyte          II        0   \n",
       "...                                   ...        ...         ...      ...   \n",
       "AACTTCCCGCCG-D0206                 normal  astrocyte         III        0   \n",
       "AGAAGGACTGCT-D0206                 normal  astrocyte         III        0   \n",
       "GCTTATGTTGGG-D0206                 normal  astrocyte         III        0   \n",
       "CTATAGGGTTCGGTAT-C0107  Alzheimer disease  astrocyte          IV        0   \n",
       "TTCGATTTCTGC-D0082      Alzheimer disease  astrocyte          VI        0   \n",
       "\n",
       "                        TNFRSF18    ATAD3B    PRDM16     ACAP3     PUSL1  \\\n",
       "AGTACCATCCATCTGC-C0060         0  1.057686  1.340132         0         0   \n",
       "ACATCAGTCTTTAGTC-C0018         0         0         0         0         0   \n",
       "CCAATCCAGAATAGGG-C0018         0         0         0         0         0   \n",
       "CTAGCCTAGCGTTTAC-C0018         0         0         0  1.777323  1.777323   \n",
       "CTGAAACGTCCCTACT-C0018         0         0         0         0         0   \n",
       "...                          ...       ...       ...       ...       ...   \n",
       "AACTTCCCGCCG-D0206             0         0         0         0         0   \n",
       "AGAAGGACTGCT-D0206             0         0         0         0         0   \n",
       "GCTTATGTTGGG-D0206             0         0         0         0         0   \n",
       "CTATAGGGTTCGGTAT-C0107         0         0  1.368414  1.368414         0   \n",
       "TTCGATTTCTGC-D0082             0         0         0         0         0   \n",
       "\n",
       "                        PEX10  ...  ENSG00000276017.1  ENSG00000277630.4  \\\n",
       "AGTACCATCCATCTGC-C0060      0  ...                  0                  0   \n",
       "ACATCAGTCTTTAGTC-C0018      0  ...                  0                  0   \n",
       "CCAATCCAGAATAGGG-C0018      0  ...                  0                  0   \n",
       "CTAGCCTAGCGTTTAC-C0018      0  ...                  0                  0   \n",
       "CTGAAACGTCCCTACT-C0018      0  ...                  0                  0   \n",
       "...                       ...  ...                ...                ...   \n",
       "AACTTCCCGCCG-D0206          0  ...                  0                  0   \n",
       "AGAAGGACTGCT-D0206          0  ...                  0                  0   \n",
       "GCTTATGTTGGG-D0206          0  ...                  0                  0   \n",
       "CTATAGGGTTCGGTAT-C0107      0  ...                  0                  0   \n",
       "TTCGATTTCTGC-D0082          0  ...                  0                  0   \n",
       "\n",
       "                        ENSG00000278384.1  ENSG00000278633.1  \\\n",
       "AGTACCATCCATCTGC-C0060                  0                  0   \n",
       "ACATCAGTCTTTAGTC-C0018                  0                  0   \n",
       "CCAATCCAGAATAGGG-C0018                  0                  0   \n",
       "CTAGCCTAGCGTTTAC-C0018                  0                  0   \n",
       "CTGAAACGTCCCTACT-C0018                  0                  0   \n",
       "...                                   ...                ...   \n",
       "AACTTCCCGCCG-D0206                      0                  0   \n",
       "AGAAGGACTGCT-D0206                      0                  0   \n",
       "GCTTATGTTGGG-D0206                      0                  0   \n",
       "CTATAGGGTTCGGTAT-C0107                  0                  0   \n",
       "TTCGATTTCTGC-D0082                      0                  0   \n",
       "\n",
       "                        ENSG00000276345.1  ENSG00000275063.1  \\\n",
       "AGTACCATCCATCTGC-C0060                  0                  0   \n",
       "ACATCAGTCTTTAGTC-C0018                  0                  0   \n",
       "CCAATCCAGAATAGGG-C0018                  0                  0   \n",
       "CTAGCCTAGCGTTTAC-C0018                  0                  0   \n",
       "CTGAAACGTCCCTACT-C0018                  0                  0   \n",
       "...                                   ...                ...   \n",
       "AACTTCCCGCCG-D0206                      0                  0   \n",
       "AGAAGGACTGCT-D0206                      0                  0   \n",
       "GCTTATGTTGGG-D0206                      0                  0   \n",
       "CTATAGGGTTCGGTAT-C0107                  0                  0   \n",
       "TTCGATTTCTGC-D0082                      0                  0   \n",
       "\n",
       "                        ENSG00000277856.1  ENSG00000271254.7  \\\n",
       "AGTACCATCCATCTGC-C0060                  0                  0   \n",
       "ACATCAGTCTTTAGTC-C0018                  0                  0   \n",
       "CCAATCCAGAATAGGG-C0018                  0                  0   \n",
       "CTAGCCTAGCGTTTAC-C0018                  0                  0   \n",
       "CTGAAACGTCCCTACT-C0018                  0                  0   \n",
       "...                                   ...                ...   \n",
       "AACTTCCCGCCG-D0206                      0                  0   \n",
       "AGAAGGACTGCT-D0206                      0                  0   \n",
       "GCTTATGTTGGG-D0206                      0                  0   \n",
       "CTATAGGGTTCGGTAT-C0107                  0                  0   \n",
       "TTCGATTTCTGC-D0082                      0                  0   \n",
       "\n",
       "                        ENSG00000268674.2  ENSG00000277475.1  \n",
       "AGTACCATCCATCTGC-C0060                  0                  0  \n",
       "ACATCAGTCTTTAGTC-C0018                  0                  0  \n",
       "CCAATCCAGAATAGGG-C0018                  0                  0  \n",
       "CTAGCCTAGCGTTTAC-C0018                  0                  0  \n",
       "CTGAAACGTCCCTACT-C0018                  0                  0  \n",
       "...                                   ...                ...  \n",
       "AACTTCCCGCCG-D0206                      0                  0  \n",
       "AGAAGGACTGCT-D0206                      0                  0  \n",
       "GCTTATGTTGGG-D0206                      0                  0  \n",
       "CTATAGGGTTCGGTAT-C0107                  0                  0  \n",
       "TTCGATTTCTGC-D0082                      0                  0  \n",
       "\n",
       "[14691 rows x 19996 columns]"
      ]
     },
     "execution_count": 3,
     "metadata": {},
     "output_type": "execute_result"
    }
   ],
   "source": [
    "astrocyte_df"
   ]
  },
  {
   "cell_type": "code",
   "execution_count": 30,
   "id": "5a58c296-bafe-4c08-9b79-5f57293804ec",
   "metadata": {},
   "outputs": [
    {
     "name": "stderr",
     "output_type": "stream",
     "text": [
      "/users/jlin211/Jupyter_Notebook/WRAP/lib64/python3.9/site-packages/torch/storage.py:414: FutureWarning: You are using `torch.load` with `weights_only=False` (the current default value), which uses the default pickle module implicitly. It is possible to construct malicious pickle data which will execute arbitrary code during unpickling (See https://github.com/pytorch/pytorch/blob/main/SECURITY.md#untrusted-models for more details). In a future release, the default value for `weights_only` will be flipped to `True`. This limits the functions that could be executed during unpickling. Arbitrary objects will no longer be allowed to be loaded via this mode unless they are explicitly allowlisted by the user via `torch.serialization.add_safe_globals`. We recommend you start setting `weights_only=True` for any use case where you don't have full control of the loaded file. Please open an issue on GitHub for any issues related to this experimental feature.\n",
      "  return torch.load(io.BytesIO(b))\n"
     ]
    }
   ],
   "source": [
    "import torch\n",
    "from torch.optim.lr_scheduler import ReduceLROnPlateau, OneCycleLR, CyclicLR\n",
    "from torch.utils.data import DataLoader, Dataset\n",
    "from torch.optim import Adamax, Adam, AdamW\n",
    "import numpy as np\n",
    "import pickle\n",
    "import json\n",
    "import random\n",
    "import pandas as pd\n",
    "\n",
    "def load_data(cell_type):\n",
    "    data_filepath = f'csci2952g/final_project/data/preprocessing_output/tensors_{cell_type}.pkl'\n",
    "\n",
    "    with open(data_filepath, \"rb\") as train_test_file:\n",
    "        X_train_tensor = pickle.load(train_test_file)\n",
    "        X_test_tensor = pickle.load(train_test_file)\n",
    "        X_val_tensor = pickle.load(train_test_file)\n",
    "        y_train_tensor = pickle.load(train_test_file)\n",
    "        y_val_tensor = pickle.load(train_test_file)\n",
    "        y_test_tensor = pickle.load(train_test_file)\n",
    "\n",
    "        return X_train_tensor, X_test_tensor, X_val_tensor, y_train_tensor, y_val_tensor, y_test_tensor\n",
    "\n",
    "\n",
    "#Example Use:\n",
    "\n",
    "celltype = \"GABAergic\"\n",
    "\n",
    "X_train_tensor, X_test_tensor, X_val_tensor, y_train_tensor, y_val_tensor, y_test_tensor = load_data(celltype)"
   ]
  },
  {
   "cell_type": "code",
   "execution_count": 31,
   "id": "fb629c6c-4f89-4910-986d-1176104bf44d",
   "metadata": {},
   "outputs": [],
   "source": [
    "feature_num = X_train_tensor.shape[1]"
   ]
  },
  {
   "cell_type": "code",
   "execution_count": 32,
   "id": "6d53acc8-d24d-4b92-b5aa-cbdf4cf788dc",
   "metadata": {},
   "outputs": [],
   "source": [
    "#we need to unsqueeze\n",
    "y_val_tensor = y_val_tensor.unsqueeze(1)\n",
    "y_test_tensor = y_test_tensor.unsqueeze(1)"
   ]
  },
  {
   "cell_type": "code",
   "execution_count": 33,
   "id": "692ce2e3-4ca1-4cd0-97a1-9af2a7d197f2",
   "metadata": {},
   "outputs": [],
   "source": [
    "#for the SHAPS\n",
    "import pickle\n",
    "with open(f\"csci2952g/final_project/data/preprocessing_output/final_dataframes_{celltype}.pkl\", \"rb\") as file:\n",
    "    final_df = pickle.load(file)"
   ]
  },
  {
   "cell_type": "code",
   "execution_count": 34,
   "id": "86ebc91d-a4c9-47df-9b8a-b04d5318f7e3",
   "metadata": {},
   "outputs": [],
   "source": [
    "import torch.nn as nn\n",
    "import torch.optim as optim\n",
    "\n",
    "import torch.nn as nn\n",
    "\n",
    "#note data is: 1475 x 652 --> remove any metadatas for now\n",
    "\n",
    "# Define the model\n",
    "model = nn.Sequential(\n",
    "    #Layer 1\n",
    "    nn.Linear(int(feature_num), 640),\n",
    "    \n",
    "    # May want a normalization\n",
    "    # nn.LayerNorm(640),\n",
    "    # nn.BatchNorm2d(640)\n",
    "    \n",
    "    nn.Dropout(p=0.5),\n",
    "    nn.ReLU(),\n",
    "\n",
    "    #Layer Output\n",
    "    nn.Linear(640, 64),\n",
    "\n",
    "    #modificaton with 2 layers \n",
    "    nn.Linear(64, 1),\n",
    "    \n",
    "\n",
    "    #sigmoid\n",
    "    nn.Sigmoid()\n",
    ")\n",
    "\n",
    "\n",
    "\n",
    "# loss function and optimizer\n",
    "loss_fn = nn.BCELoss()  # mean absolute error\n",
    "optimizer = optim.Adam(model.parameters(), lr=0.0001)"
   ]
  },
  {
   "cell_type": "code",
   "execution_count": 35,
   "id": "72984392-3a46-4be1-905d-507f8633f5cd",
   "metadata": {},
   "outputs": [],
   "source": [
    "# DEVICE = torch.device(\"cuda\")\n",
    "\n",
    "# model = model.to(DEVICE)\n",
    "# X_train_tensor = X_train_tensor.to(DEVICE)\n",
    "# y_train_tensor = y_train_tensor.type(torch.LongTensor)\n",
    "# y_train_tensor = y_train_tensor.to(DEVICE)\n",
    "\n",
    "# X_val_tensor = X_val_tensor.to(DEVICE)\n",
    "\n",
    "# y_val_tensor = y_val_tensor.type(torch.LongTensor)\n",
    "\n",
    "# y_val_tensor = y_val_tensor.to(DEVICE)\n",
    "\n",
    "# X_test_tensor = X_test_tensor.to(DEVICE)\n",
    "\n",
    "# y_test_tensor = y_test_tensor.type(torch.LongTensor)\n",
    "\n",
    "# y_test_tensor = y_test_tensor.to(DEVICE)"
   ]
  },
  {
   "cell_type": "code",
   "execution_count": null,
   "id": "6208d07a-c1ce-4609-919d-25599e8796a1",
   "metadata": {
    "scrolled": true
   },
   "outputs": [
    {
     "name": "stderr",
     "output_type": "stream",
     "text": [
      "Epoch 0: 100%|█████| 200/200 [00:00<00:00, 287.06batch/s, acc=0.655, loss=0.609]\n"
     ]
    },
    {
     "name": "stdout",
     "output_type": "stream",
     "text": [
      "TEST ACC: 0.6719375252723694\n",
      "TEST LOCC: 0.5467984676361084\n"
     ]
    },
    {
     "name": "stderr",
     "output_type": "stream",
     "text": [
      "Epoch 1: 100%|█████| 200/200 [00:00<00:00, 266.30batch/s, acc=0.715, loss=0.551]\n"
     ]
    },
    {
     "name": "stdout",
     "output_type": "stream",
     "text": [
      "TEST ACC: 0.7199062705039978\n",
      "TEST LOCC: 0.47473564743995667\n"
     ]
    },
    {
     "name": "stderr",
     "output_type": "stream",
     "text": [
      "Epoch 2: 100%|█████| 200/200 [00:00<00:00, 288.63batch/s, acc=0.742, loss=0.533]\n"
     ]
    },
    {
     "name": "stdout",
     "output_type": "stream",
     "text": [
      "TEST ACC: 0.7438125014305115\n",
      "TEST LOCC: 0.4633546471595764\n"
     ]
    },
    {
     "name": "stderr",
     "output_type": "stream",
     "text": [
      "Epoch 3: 100%|█████| 200/200 [00:00<00:00, 261.81batch/s, acc=0.757, loss=0.519]\n"
     ]
    },
    {
     "name": "stdout",
     "output_type": "stream",
     "text": [
      "TEST ACC: 0.7577187418937683\n",
      "TEST LOCC: 0.4619944393634796\n"
     ]
    },
    {
     "name": "stderr",
     "output_type": "stream",
     "text": [
      "Epoch 4: 100%|███████| 200/200 [00:00<00:00, 255.34batch/s, acc=0.768, loss=0.5]\n"
     ]
    },
    {
     "name": "stdout",
     "output_type": "stream",
     "text": [
      "TEST ACC: 0.7679250240325928\n",
      "TEST LOCC: 0.4628547728061676\n"
     ]
    },
    {
     "name": "stderr",
     "output_type": "stream",
     "text": [
      "Epoch 5: 100%|█████| 200/200 [00:00<00:00, 200.00batch/s, acc=0.776, loss=0.473]\n"
     ]
    },
    {
     "name": "stdout",
     "output_type": "stream",
     "text": [
      "TEST ACC: 0.7762500047683716\n",
      "TEST LOCC: 0.46489495038986206\n"
     ]
    },
    {
     "name": "stderr",
     "output_type": "stream",
     "text": [
      "Epoch 6: 100%|██████| 200/200 [00:00<00:00, 231.20batch/s, acc=0.784, loss=0.43]\n"
     ]
    },
    {
     "name": "stdout",
     "output_type": "stream",
     "text": [
      "TEST ACC: 0.7842767834663391\n",
      "TEST LOCC: 0.46753424406051636\n"
     ]
    },
    {
     "name": "stderr",
     "output_type": "stream",
     "text": [
      "Epoch 7: 100%|█████| 200/200 [00:00<00:00, 226.39batch/s, acc=0.793, loss=0.378]\n"
     ]
    },
    {
     "name": "stdout",
     "output_type": "stream",
     "text": [
      "TEST ACC: 0.7928749918937683\n",
      "TEST LOCC: 0.46992918848991394\n"
     ]
    },
    {
     "name": "stderr",
     "output_type": "stream",
     "text": [
      "Epoch 8: 100%|█████| 200/200 [00:00<00:00, 218.21batch/s, acc=0.802, loss=0.316]\n"
     ]
    },
    {
     "name": "stdout",
     "output_type": "stream",
     "text": [
      "TEST ACC: 0.8020694255828857\n",
      "TEST LOCC: 0.4751845896244049\n"
     ]
    },
    {
     "name": "stderr",
     "output_type": "stream",
     "text": [
      "Epoch 9: 100%|█████| 200/200 [00:00<00:00, 226.66batch/s, acc=0.812, loss=0.252]\n"
     ]
    },
    {
     "name": "stdout",
     "output_type": "stream",
     "text": [
      "TEST ACC: 0.8116750121116638\n",
      "TEST LOCC: 0.48621994256973267\n"
     ]
    },
    {
     "name": "stderr",
     "output_type": "stream",
     "text": [
      "Epoch 10: 100%|████| 200/200 [00:00<00:00, 216.58batch/s, acc=0.822, loss=0.196]\n"
     ]
    },
    {
     "name": "stdout",
     "output_type": "stream",
     "text": [
      "TEST ACC: 0.8213182091712952\n",
      "TEST LOCC: 0.5061240792274475\n"
     ]
    },
    {
     "name": "stderr",
     "output_type": "stream",
     "text": [
      "Epoch 11: 100%|████| 200/200 [00:00<00:00, 223.13batch/s, acc=0.831, loss=0.151]\n"
     ]
    },
    {
     "name": "stdout",
     "output_type": "stream",
     "text": [
      "TEST ACC: 0.8305000066757202\n",
      "TEST LOCC: 0.536467969417572\n"
     ]
    },
    {
     "name": "stderr",
     "output_type": "stream",
     "text": [
      "Epoch 12: 100%|█████| 200/200 [00:00<00:00, 229.67batch/s, acc=0.84, loss=0.119]\n"
     ]
    },
    {
     "name": "stdout",
     "output_type": "stream",
     "text": [
      "TEST ACC: 0.8388653993606567\n",
      "TEST LOCC: 0.5752407312393188\n"
     ]
    },
    {
     "name": "stderr",
     "output_type": "stream",
     "text": [
      "Epoch 13: 100%|███| 200/200 [00:00<00:00, 231.01batch/s, acc=0.847, loss=0.0992]\n"
     ]
    },
    {
     "name": "stdout",
     "output_type": "stream",
     "text": [
      "TEST ACC: 0.8463615775108337\n",
      "TEST LOCC: 0.6373155117034912\n"
     ]
    },
    {
     "name": "stderr",
     "output_type": "stream",
     "text": [
      "Epoch 14: 100%|███| 200/200 [00:00<00:00, 235.80batch/s, acc=0.854, loss=0.0886]\n"
     ]
    },
    {
     "name": "stdout",
     "output_type": "stream",
     "text": [
      "TEST ACC: 0.8529999852180481\n",
      "TEST LOCC: 0.7176274657249451\n"
     ]
    },
    {
     "name": "stderr",
     "output_type": "stream",
     "text": [
      "Epoch 15: 100%|████| 200/200 [00:00<00:00, 200.15batch/s, acc=0.86, loss=0.0721]\n"
     ]
    },
    {
     "name": "stdout",
     "output_type": "stream",
     "text": [
      "TEST ACC: 0.8586523532867432\n",
      "TEST LOCC: 0.8446968793869019\n"
     ]
    },
    {
     "name": "stderr",
     "output_type": "stream",
     "text": [
      "Epoch 16: 100%|███| 200/200 [00:00<00:00, 223.21batch/s, acc=0.865, loss=0.0314]\n"
     ]
    },
    {
     "name": "stdout",
     "output_type": "stream",
     "text": [
      "TEST ACC: 0.8635551333427429\n",
      "TEST LOCC: 0.8455713391304016\n"
     ]
    },
    {
     "name": "stderr",
     "output_type": "stream",
     "text": [
      "Epoch 17: 100%|███| 200/200 [00:00<00:00, 228.04batch/s, acc=0.869, loss=0.0234]\n"
     ]
    },
    {
     "name": "stdout",
     "output_type": "stream",
     "text": [
      "TEST ACC: 0.8678646087646484\n",
      "TEST LOCC: 0.7521266341209412\n"
     ]
    },
    {
     "name": "stderr",
     "output_type": "stream",
     "text": [
      "Epoch 18: 100%|███| 200/200 [00:00<00:00, 232.93batch/s, acc=0.873, loss=0.0692]\n"
     ]
    },
    {
     "name": "stdout",
     "output_type": "stream",
     "text": [
      "TEST ACC: 0.8721250295639038\n",
      "TEST LOCC: 0.6318999528884888\n"
     ]
    },
    {
     "name": "stderr",
     "output_type": "stream",
     "text": [
      "Epoch 19: 100%|████| 200/200 [00:00<00:00, 232.30batch/s, acc=0.877, loss=0.182]\n"
     ]
    },
    {
     "name": "stdout",
     "output_type": "stream",
     "text": [
      "TEST ACC: 0.8759250044822693\n",
      "TEST LOCC: 0.6330963373184204\n"
     ]
    },
    {
     "name": "stderr",
     "output_type": "stream",
     "text": [
      "Epoch 20: 100%|████| 200/200 [00:00<00:00, 235.11batch/s, acc=0.88, loss=0.0144]\n"
     ]
    },
    {
     "name": "stdout",
     "output_type": "stream",
     "text": [
      "TEST ACC: 0.8795714378356934\n",
      "TEST LOCC: 0.6333070993423462\n"
     ]
    },
    {
     "name": "stderr",
     "output_type": "stream",
     "text": [
      "Epoch 21: 100%|██| 200/200 [00:00<00:00, 283.60batch/s, acc=0.884, loss=0.00828]\n"
     ]
    },
    {
     "name": "stdout",
     "output_type": "stream",
     "text": [
      "TEST ACC: 0.8831903338432312\n",
      "TEST LOCC: 0.6822806000709534\n"
     ]
    },
    {
     "name": "stderr",
     "output_type": "stream",
     "text": [
      "Epoch 22: 100%|██| 200/200 [00:00<00:00, 235.70batch/s, acc=0.887, loss=0.00602]\n"
     ]
    },
    {
     "name": "stdout",
     "output_type": "stream",
     "text": [
      "TEST ACC: 0.8865923881530762\n",
      "TEST LOCC: 0.7352120876312256\n"
     ]
    },
    {
     "name": "stderr",
     "output_type": "stream",
     "text": [
      "Epoch 23: 100%|███| 200/200 [00:00<00:00, 217.79batch/s, acc=0.89, loss=0.00486]\n"
     ]
    },
    {
     "name": "stdout",
     "output_type": "stream",
     "text": [
      "TEST ACC: 0.889690101146698\n",
      "TEST LOCC: 0.7604585289955139\n"
     ]
    },
    {
     "name": "stderr",
     "output_type": "stream",
     "text": [
      "Epoch 24: 100%|███| 200/200 [00:00<00:00, 220.55batch/s, acc=0.893, loss=0.0042]\n"
     ]
    },
    {
     "name": "stdout",
     "output_type": "stream",
     "text": [
      "TEST ACC: 0.8925549983978271\n",
      "TEST LOCC: 0.7807297706604004\n"
     ]
    },
    {
     "name": "stderr",
     "output_type": "stream",
     "text": [
      "Epoch 25: 100%|██| 200/200 [00:00<00:00, 208.20batch/s, acc=0.896, loss=0.00373]\n"
     ]
    },
    {
     "name": "stdout",
     "output_type": "stream",
     "text": [
      "TEST ACC: 0.8952067494392395\n",
      "TEST LOCC: 0.7991411685943604\n"
     ]
    },
    {
     "name": "stderr",
     "output_type": "stream",
     "text": [
      "Epoch 26: 100%|██| 200/200 [00:00<00:00, 221.92batch/s, acc=0.898, loss=0.00348]\n"
     ]
    },
    {
     "name": "stdout",
     "output_type": "stream",
     "text": [
      "TEST ACC: 0.8976620435714722\n",
      "TEST LOCC: 0.8148649334907532\n"
     ]
    },
    {
     "name": "stderr",
     "output_type": "stream",
     "text": [
      "Epoch 27: 100%|██| 200/200 [00:00<00:00, 231.12batch/s, acc=0.901, loss=0.00345]\n"
     ]
    },
    {
     "name": "stdout",
     "output_type": "stream",
     "text": [
      "TEST ACC: 0.8999464511871338\n",
      "TEST LOCC: 0.8282647728919983\n"
     ]
    },
    {
     "name": "stderr",
     "output_type": "stream",
     "text": [
      "Epoch 28: 100%|██| 200/200 [00:00<00:00, 229.87batch/s, acc=0.903, loss=0.00358]\n"
     ]
    },
    {
     "name": "stdout",
     "output_type": "stream",
     "text": [
      "TEST ACC: 0.9020732641220093\n",
      "TEST LOCC: 0.8401984572410583\n"
     ]
    },
    {
     "name": "stderr",
     "output_type": "stream",
     "text": [
      "Epoch 29: 100%|██| 200/200 [00:00<00:00, 232.46batch/s, acc=0.905, loss=0.00439]\n"
     ]
    },
    {
     "name": "stdout",
     "output_type": "stream",
     "text": [
      "TEST ACC: 0.9040541648864746\n",
      "TEST LOCC: 0.849861741065979\n"
     ]
    },
    {
     "name": "stderr",
     "output_type": "stream",
     "text": [
      "Epoch 30: 100%|██| 200/200 [00:00<00:00, 218.09batch/s, acc=0.907, loss=0.00537]\n"
     ]
    },
    {
     "name": "stdout",
     "output_type": "stream",
     "text": [
      "TEST ACC: 0.9059032201766968\n",
      "TEST LOCC: 0.8640978932380676\n"
     ]
    },
    {
     "name": "stderr",
     "output_type": "stream",
     "text": [
      "Epoch 31: 100%|██| 200/200 [00:00<00:00, 223.26batch/s, acc=0.908, loss=0.00818]\n"
     ]
    },
    {
     "name": "stdout",
     "output_type": "stream",
     "text": [
      "TEST ACC: 0.9075859189033508\n",
      "TEST LOCC: 0.8902557492256165\n"
     ]
    },
    {
     "name": "stderr",
     "output_type": "stream",
     "text": [
      "Epoch 32: 100%|████| 200/200 [00:00<00:00, 237.18batch/s, acc=0.91, loss=0.0111]\n"
     ]
    },
    {
     "name": "stdout",
     "output_type": "stream",
     "text": [
      "TEST ACC: 0.9091079831123352\n",
      "TEST LOCC: 0.9448711276054382\n"
     ]
    },
    {
     "name": "stderr",
     "output_type": "stream",
     "text": [
      "Epoch 33: 100%|██| 200/200 [00:00<00:00, 232.36batch/s, acc=0.911, loss=0.00671]\n"
     ]
    },
    {
     "name": "stdout",
     "output_type": "stream",
     "text": [
      "TEST ACC: 0.9105386137962341\n",
      "TEST LOCC: 0.9953758716583252\n"
     ]
    },
    {
     "name": "stderr",
     "output_type": "stream",
     "text": [
      "Epoch 34: 100%|██| 200/200 [00:00<00:00, 231.62batch/s, acc=0.913, loss=0.00694]\n"
     ]
    },
    {
     "name": "stdout",
     "output_type": "stream",
     "text": [
      "TEST ACC: 0.9118910431861877\n",
      "TEST LOCC: 1.0286097526550293\n"
     ]
    },
    {
     "name": "stderr",
     "output_type": "stream",
     "text": [
      "Epoch 35: 100%|██| 200/200 [00:00<00:00, 229.60batch/s, acc=0.914, loss=0.00686]\n"
     ]
    },
    {
     "name": "stdout",
     "output_type": "stream",
     "text": [
      "TEST ACC: 0.9131267070770264\n",
      "TEST LOCC: 1.0889971256256104\n"
     ]
    },
    {
     "name": "stderr",
     "output_type": "stream",
     "text": [
      "Epoch 36: 100%|█| 200/200 [00:01<00:00, 187.48batch/s, acc=0.915, loss=0.000566]\n"
     ]
    },
    {
     "name": "stdout",
     "output_type": "stream",
     "text": [
      "TEST ACC: 0.9144341349601746\n",
      "TEST LOCC: 1.0149329900741577\n"
     ]
    },
    {
     "name": "stderr",
     "output_type": "stream",
     "text": [
      "Epoch 37: 100%|███| 200/200 [00:00<00:00, 229.37batch/s, acc=0.916, loss=0.0006]\n"
     ]
    },
    {
     "name": "stdout",
     "output_type": "stream",
     "text": [
      "TEST ACC: 0.9156710505485535\n",
      "TEST LOCC: 1.0874314308166504\n"
     ]
    },
    {
     "name": "stderr",
     "output_type": "stream",
     "text": [
      "Epoch 38: 100%|█| 200/200 [00:00<00:00, 226.30batch/s, acc=0.917, loss=0.000379]\n"
     ]
    },
    {
     "name": "stdout",
     "output_type": "stream",
     "text": [
      "TEST ACC: 0.9168493747711182\n",
      "TEST LOCC: 1.100146770477295\n"
     ]
    },
    {
     "name": "stderr",
     "output_type": "stream",
     "text": [
      "Epoch 39: 100%|██| 200/200 [00:00<00:00, 222.15batch/s, acc=0.919, loss=0.00032]\n"
     ]
    },
    {
     "name": "stdout",
     "output_type": "stream",
     "text": [
      "TEST ACC: 0.9179624915122986\n",
      "TEST LOCC: 1.113765835762024\n"
     ]
    },
    {
     "name": "stderr",
     "output_type": "stream",
     "text": [
      "Epoch 40: 100%|███| 200/200 [00:00<00:00, 230.23batch/s, acc=0.92, loss=0.00025]\n"
     ]
    },
    {
     "name": "stdout",
     "output_type": "stream",
     "text": [
      "TEST ACC: 0.9190228581428528\n",
      "TEST LOCC: 1.1234428882598877\n"
     ]
    },
    {
     "name": "stderr",
     "output_type": "stream",
     "text": [
      "Epoch 41: 100%|█| 200/200 [00:00<00:00, 224.60batch/s, acc=0.921, loss=0.000203]\n"
     ]
    },
    {
     "name": "stdout",
     "output_type": "stream",
     "text": [
      "TEST ACC: 0.9200372099876404\n",
      "TEST LOCC: 1.1325194835662842\n"
     ]
    },
    {
     "name": "stderr",
     "output_type": "stream",
     "text": [
      "Epoch 42: 100%|█| 200/200 [00:00<00:00, 228.40batch/s, acc=0.922, loss=0.000173]\n"
     ]
    },
    {
     "name": "stdout",
     "output_type": "stream",
     "text": [
      "TEST ACC: 0.9210072755813599\n",
      "TEST LOCC: 1.1408785581588745\n"
     ]
    },
    {
     "name": "stderr",
     "output_type": "stream",
     "text": [
      "Epoch 43: 100%|██| 200/200 [00:00<00:00, 234.05batch/s, acc=0.922, loss=0.00015]\n"
     ]
    },
    {
     "name": "stdout",
     "output_type": "stream",
     "text": [
      "TEST ACC: 0.9219303727149963\n",
      "TEST LOCC: 1.1489449739456177\n"
     ]
    },
    {
     "name": "stderr",
     "output_type": "stream",
     "text": [
      "Epoch 44: 100%|█| 200/200 [00:00<00:00, 222.25batch/s, acc=0.923, loss=0.000132]\n"
     ]
    },
    {
     "name": "stdout",
     "output_type": "stream",
     "text": [
      "TEST ACC: 0.9228083491325378\n",
      "TEST LOCC: 1.183060884475708\n"
     ]
    },
    {
     "name": "stderr",
     "output_type": "stream",
     "text": [
      "Epoch 45: 100%|█| 200/200 [00:00<00:00, 219.07batch/s, acc=0.924, loss=0.000118]\n"
     ]
    },
    {
     "name": "stdout",
     "output_type": "stream",
     "text": [
      "TEST ACC: 0.9236481189727783\n",
      "TEST LOCC: 1.2172214984893799\n"
     ]
    },
    {
     "name": "stderr",
     "output_type": "stream",
     "text": [
      "Epoch 46: 100%|█| 200/200 [00:00<00:00, 203.79batch/s, acc=0.925, loss=0.000105]\n"
     ]
    },
    {
     "name": "stdout",
     "output_type": "stream",
     "text": [
      "TEST ACC: 0.9244534373283386\n",
      "TEST LOCC: 1.2250490188598633\n"
     ]
    },
    {
     "name": "stderr",
     "output_type": "stream",
     "text": [
      "Epoch 47: 100%|██| 200/200 [00:00<00:00, 235.66batch/s, acc=0.926, loss=9.48e-5]\n"
     ]
    },
    {
     "name": "stdout",
     "output_type": "stream",
     "text": [
      "TEST ACC: 0.9252265691757202\n",
      "TEST LOCC: 1.2334398031234741\n"
     ]
    },
    {
     "name": "stderr",
     "output_type": "stream",
     "text": [
      "Epoch 48: 100%|██| 200/200 [00:00<00:00, 222.34batch/s, acc=0.926, loss=8.56e-5]\n"
     ]
    },
    {
     "name": "stdout",
     "output_type": "stream",
     "text": [
      "TEST ACC: 0.9259693622589111\n",
      "TEST LOCC: 1.2412192821502686\n"
     ]
    },
    {
     "name": "stderr",
     "output_type": "stream",
     "text": [
      "Epoch 49: 100%|██| 200/200 [00:00<00:00, 224.67batch/s, acc=0.927, loss=7.78e-5]\n"
     ]
    },
    {
     "name": "stdout",
     "output_type": "stream",
     "text": [
      "TEST ACC: 0.9266824722290039\n",
      "TEST LOCC: 1.2754790782928467\n"
     ]
    },
    {
     "name": "stderr",
     "output_type": "stream",
     "text": [
      "Epoch 50: 100%|███| 200/200 [00:00<00:00, 230.41batch/s, acc=0.928, loss=7.1e-5]\n"
     ]
    },
    {
     "name": "stdout",
     "output_type": "stream",
     "text": [
      "TEST ACC: 0.927367627620697\n",
      "TEST LOCC: 1.2838075160980225\n"
     ]
    },
    {
     "name": "stderr",
     "output_type": "stream",
     "text": [
      "Epoch 51: 100%|██| 200/200 [00:00<00:00, 231.47batch/s, acc=0.928, loss=6.45e-5]\n"
     ]
    },
    {
     "name": "stdout",
     "output_type": "stream",
     "text": [
      "TEST ACC: 0.9280240535736084\n",
      "TEST LOCC: 1.2920315265655518\n"
     ]
    },
    {
     "name": "stderr",
     "output_type": "stream",
     "text": [
      "Epoch 52: 100%|███| 200/200 [00:00<00:00, 224.86batch/s, acc=0.929, loss=5.9e-5]\n"
     ]
    },
    {
     "name": "stdout",
     "output_type": "stream",
     "text": [
      "TEST ACC: 0.9286544919013977\n",
      "TEST LOCC: 1.3527766466140747\n"
     ]
    },
    {
     "name": "stderr",
     "output_type": "stream",
     "text": [
      "Epoch 53: 100%|███| 200/200 [00:00<00:00, 237.48batch/s, acc=0.93, loss=5.36e-5]\n"
     ]
    },
    {
     "name": "stdout",
     "output_type": "stream",
     "text": [
      "TEST ACC: 0.9292627573013306\n",
      "TEST LOCC: 1.3875447511672974\n"
     ]
    },
    {
     "name": "stderr",
     "output_type": "stream",
     "text": [
      "Epoch 54: 100%|███| 200/200 [00:00<00:00, 229.91batch/s, acc=0.93, loss=4.89e-5]\n"
     ]
    },
    {
     "name": "stdout",
     "output_type": "stream",
     "text": [
      "TEST ACC: 0.9298477172851562\n",
      "TEST LOCC: 1.395890712738037\n"
     ]
    },
    {
     "name": "stderr",
     "output_type": "stream",
     "text": [
      "Epoch 55: 100%|██| 200/200 [00:00<00:00, 221.19batch/s, acc=0.931, loss=4.47e-5]\n"
     ]
    },
    {
     "name": "stdout",
     "output_type": "stream",
     "text": [
      "TEST ACC: 0.9304129481315613\n",
      "TEST LOCC: 1.4044973850250244\n"
     ]
    },
    {
     "name": "stderr",
     "output_type": "stream",
     "text": [
      "Epoch 56: 100%|██| 200/200 [00:01<00:00, 191.19batch/s, acc=0.931, loss=4.08e-5]\n"
     ]
    },
    {
     "name": "stdout",
     "output_type": "stream",
     "text": [
      "TEST ACC: 0.9309550523757935\n",
      "TEST LOCC: 1.4390722513198853\n"
     ]
    },
    {
     "name": "stderr",
     "output_type": "stream",
     "text": [
      "Epoch 57: 100%|██| 200/200 [00:00<00:00, 213.90batch/s, acc=0.932, loss=3.72e-5]\n"
     ]
    },
    {
     "name": "stdout",
     "output_type": "stream",
     "text": [
      "TEST ACC: 0.9314795136451721\n",
      "TEST LOCC: 1.4481385946273804\n"
     ]
    },
    {
     "name": "stderr",
     "output_type": "stream",
     "text": [
      "Epoch 58: 100%|███| 200/200 [00:00<00:00, 227.08batch/s, acc=0.932, loss=3.4e-5]\n"
     ]
    },
    {
     "name": "stdout",
     "output_type": "stream",
     "text": [
      "TEST ACC: 0.9319862127304077\n",
      "TEST LOCC: 1.456813097000122\n"
     ]
    },
    {
     "name": "stderr",
     "output_type": "stream",
     "text": [
      "Epoch 59: 100%|███| 200/200 [00:00<00:00, 232.55batch/s, acc=0.933, loss=3.1e-5]\n"
     ]
    },
    {
     "name": "stdout",
     "output_type": "stream",
     "text": [
      "TEST ACC: 0.932478129863739\n",
      "TEST LOCC: 1.4654635190963745\n"
     ]
    },
    {
     "name": "stderr",
     "output_type": "stream",
     "text": [
      "Epoch 60: 100%|██| 200/200 [00:00<00:00, 216.37batch/s, acc=0.933, loss=2.83e-5]\n"
     ]
    },
    {
     "name": "stdout",
     "output_type": "stream",
     "text": [
      "TEST ACC: 0.9329518675804138\n",
      "TEST LOCC: 1.4741326570510864\n"
     ]
    },
    {
     "name": "stderr",
     "output_type": "stream",
     "text": [
      "Epoch 61: 100%|██| 200/200 [00:00<00:00, 226.36batch/s, acc=0.934, loss=2.59e-5]\n"
     ]
    },
    {
     "name": "stdout",
     "output_type": "stream",
     "text": [
      "TEST ACC: 0.9334113001823425\n",
      "TEST LOCC: 1.4825465679168701\n"
     ]
    },
    {
     "name": "stderr",
     "output_type": "stream",
     "text": [
      "Epoch 62: 100%|██| 200/200 [00:00<00:00, 231.87batch/s, acc=0.934, loss=2.35e-5]\n"
     ]
    },
    {
     "name": "stdout",
     "output_type": "stream",
     "text": [
      "TEST ACC: 0.9338571429252625\n",
      "TEST LOCC: 1.491283893585205\n"
     ]
    },
    {
     "name": "stderr",
     "output_type": "stream",
     "text": [
      "Epoch 63: 100%|██| 200/200 [00:00<00:00, 228.13batch/s, acc=0.935, loss=2.14e-5]\n"
     ]
    },
    {
     "name": "stdout",
     "output_type": "stream",
     "text": [
      "TEST ACC: 0.9342880845069885\n",
      "TEST LOCC: 1.499855399131775\n"
     ]
    },
    {
     "name": "stderr",
     "output_type": "stream",
     "text": [
      "Epoch 64: 100%|██| 200/200 [00:00<00:00, 236.55batch/s, acc=0.935, loss=1.95e-5]\n"
     ]
    },
    {
     "name": "stdout",
     "output_type": "stream",
     "text": [
      "TEST ACC: 0.9347067475318909\n",
      "TEST LOCC: 1.5349305868148804\n"
     ]
    },
    {
     "name": "stderr",
     "output_type": "stream",
     "text": [
      "Epoch 65: 100%|██| 200/200 [00:00<00:00, 231.62batch/s, acc=0.936, loss=1.77e-5]\n"
     ]
    },
    {
     "name": "stdout",
     "output_type": "stream",
     "text": [
      "TEST ACC: 0.935112714767456\n",
      "TEST LOCC: 1.6226783990859985\n"
     ]
    },
    {
     "name": "stderr",
     "output_type": "stream",
     "text": [
      "Epoch 66: 100%|██| 200/200 [00:00<00:00, 205.32batch/s, acc=0.936, loss=1.62e-5]\n"
     ]
    },
    {
     "name": "stdout",
     "output_type": "stream",
     "text": [
      "TEST ACC: 0.9355055689811707\n",
      "TEST LOCC: 1.6315516233444214\n"
     ]
    },
    {
     "name": "stderr",
     "output_type": "stream",
     "text": [
      "Epoch 67: 100%|██| 200/200 [00:00<00:00, 274.42batch/s, acc=0.936, loss=1.47e-5]\n"
     ]
    },
    {
     "name": "stdout",
     "output_type": "stream",
     "text": [
      "TEST ACC: 0.93588787317276\n",
      "TEST LOCC: 1.6400713920593262\n"
     ]
    },
    {
     "name": "stderr",
     "output_type": "stream",
     "text": [
      "Epoch 68: 100%|██| 200/200 [00:00<00:00, 264.04batch/s, acc=0.937, loss=1.33e-5]\n"
     ]
    },
    {
     "name": "stdout",
     "output_type": "stream",
     "text": [
      "TEST ACC: 0.9362608790397644\n",
      "TEST LOCC: 1.6494319438934326\n"
     ]
    },
    {
     "name": "stderr",
     "output_type": "stream",
     "text": [
      "Epoch 69: 100%|██| 200/200 [00:00<00:00, 237.84batch/s, acc=0.937, loss=1.22e-5]\n"
     ]
    },
    {
     "name": "stdout",
     "output_type": "stream",
     "text": [
      "TEST ACC: 0.936623215675354\n",
      "TEST LOCC: 1.6579135656356812\n"
     ]
    },
    {
     "name": "stderr",
     "output_type": "stream",
     "text": [
      "Epoch 70: 100%|███| 200/200 [00:00<00:00, 227.34batch/s, acc=0.937, loss=1.1e-5]\n"
     ]
    },
    {
     "name": "stdout",
     "output_type": "stream",
     "text": [
      "TEST ACC: 0.9369779825210571\n",
      "TEST LOCC: 1.6664211750030518\n"
     ]
    },
    {
     "name": "stderr",
     "output_type": "stream",
     "text": [
      "Epoch 71: 100%|██| 200/200 [00:00<00:00, 236.06batch/s, acc=0.938, loss=1.01e-5]\n"
     ]
    },
    {
     "name": "stdout",
     "output_type": "stream",
     "text": [
      "TEST ACC: 0.9373246431350708\n",
      "TEST LOCC: 1.674899935722351\n"
     ]
    },
    {
     "name": "stderr",
     "output_type": "stream",
     "text": [
      "Epoch 72: 100%|██| 200/200 [00:00<00:00, 240.28batch/s, acc=0.938, loss=9.12e-6]\n"
     ]
    },
    {
     "name": "stdout",
     "output_type": "stream",
     "text": [
      "TEST ACC: 0.9376652240753174\n",
      "TEST LOCC: 1.6840721368789673\n"
     ]
    },
    {
     "name": "stderr",
     "output_type": "stream",
     "text": [
      "Epoch 73: 100%|██| 200/200 [00:00<00:00, 230.01batch/s, acc=0.938, loss=8.28e-6]\n"
     ]
    },
    {
     "name": "stdout",
     "output_type": "stream",
     "text": [
      "TEST ACC: 0.9379957914352417\n",
      "TEST LOCC: 1.7192519903182983\n"
     ]
    },
    {
     "name": "stderr",
     "output_type": "stream",
     "text": [
      "Epoch 74: 100%|███| 200/200 [00:00<00:00, 230.10batch/s, acc=0.939, loss=7.5e-6]\n"
     ]
    },
    {
     "name": "stdout",
     "output_type": "stream",
     "text": [
      "TEST ACC: 0.9383166432380676\n",
      "TEST LOCC: 1.7538987398147583\n"
     ]
    },
    {
     "name": "stderr",
     "output_type": "stream",
     "text": [
      "Epoch 75: 100%|██| 200/200 [00:00<00:00, 225.21batch/s, acc=0.939, loss=6.77e-6]\n"
     ]
    },
    {
     "name": "stdout",
     "output_type": "stream",
     "text": [
      "TEST ACC: 0.9386290907859802\n",
      "TEST LOCC: 1.7628393173217773\n"
     ]
    },
    {
     "name": "stderr",
     "output_type": "stream",
     "text": [
      "Epoch 76: 100%|██| 200/200 [00:00<00:00, 238.42batch/s, acc=0.939, loss=6.14e-6]\n"
     ]
    },
    {
     "name": "stdout",
     "output_type": "stream",
     "text": [
      "TEST ACC: 0.9389350414276123\n",
      "TEST LOCC: 1.7975927591323853\n"
     ]
    },
    {
     "name": "stderr",
     "output_type": "stream",
     "text": [
      "Epoch 77: 100%|███| 200/200 [00:00<00:00, 206.61batch/s, acc=0.94, loss=5.58e-6]\n"
     ]
    },
    {
     "name": "stdout",
     "output_type": "stream",
     "text": [
      "TEST ACC: 0.9392331838607788\n",
      "TEST LOCC: 1.832106590270996\n"
     ]
    },
    {
     "name": "stderr",
     "output_type": "stream",
     "text": [
      "Epoch 78: 100%|███| 200/200 [00:00<00:00, 217.06batch/s, acc=0.94, loss=5.07e-6]\n"
     ]
    },
    {
     "name": "stdout",
     "output_type": "stream",
     "text": [
      "TEST ACC: 0.9395269155502319\n",
      "TEST LOCC: 1.8665002584457397\n"
     ]
    },
    {
     "name": "stderr",
     "output_type": "stream",
     "text": [
      "Epoch 79: 100%|███| 200/200 [00:00<00:00, 223.62batch/s, acc=0.94, loss=4.58e-6]\n"
     ]
    },
    {
     "name": "stdout",
     "output_type": "stream",
     "text": [
      "TEST ACC: 0.9398132562637329\n",
      "TEST LOCC: 1.874923825263977\n"
     ]
    },
    {
     "name": "stderr",
     "output_type": "stream",
     "text": [
      "Epoch 80: 100%|███| 200/200 [00:00<00:00, 239.23batch/s, acc=0.94, loss=4.13e-6]\n"
     ]
    },
    {
     "name": "stdout",
     "output_type": "stream",
     "text": [
      "TEST ACC: 0.9400925636291504\n",
      "TEST LOCC: 1.9099634885787964\n"
     ]
    },
    {
     "name": "stderr",
     "output_type": "stream",
     "text": [
      "Epoch 81: 100%|██| 200/200 [00:00<00:00, 220.57batch/s, acc=0.941, loss=3.75e-6]\n"
     ]
    },
    {
     "name": "stdout",
     "output_type": "stream",
     "text": [
      "TEST ACC: 0.9403650760650635\n",
      "TEST LOCC: 1.9709789752960205\n"
     ]
    },
    {
     "name": "stderr",
     "output_type": "stream",
     "text": [
      "Epoch 82: 100%|███| 200/200 [00:00<00:00, 231.92batch/s, acc=0.941, loss=3.4e-6]\n"
     ]
    },
    {
     "name": "stdout",
     "output_type": "stream",
     "text": [
      "TEST ACC: 0.9406302571296692\n",
      "TEST LOCC: 1.9790431261062622\n"
     ]
    },
    {
     "name": "stderr",
     "output_type": "stream",
     "text": [
      "Epoch 83: 100%|██| 200/200 [00:00<00:00, 231.73batch/s, acc=0.941, loss=3.07e-6]\n"
     ]
    },
    {
     "name": "stdout",
     "output_type": "stream",
     "text": [
      "TEST ACC: 0.9408884048461914\n",
      "TEST LOCC: 2.066486120223999\n"
     ]
    },
    {
     "name": "stderr",
     "output_type": "stream",
     "text": [
      "Epoch 84: 100%|██| 200/200 [00:00<00:00, 229.54batch/s, acc=0.941, loss=2.79e-6]\n"
     ]
    },
    {
     "name": "stdout",
     "output_type": "stream",
     "text": [
      "TEST ACC: 0.9411404132843018\n",
      "TEST LOCC: 2.127290725708008\n"
     ]
    },
    {
     "name": "stderr",
     "output_type": "stream",
     "text": [
      "Epoch 85: 100%|██| 200/200 [00:00<00:00, 230.07batch/s, acc=0.942, loss=2.53e-6]\n"
     ]
    },
    {
     "name": "stdout",
     "output_type": "stream",
     "text": [
      "TEST ACC: 0.9413873553276062\n",
      "TEST LOCC: 2.135512113571167\n"
     ]
    },
    {
     "name": "stderr",
     "output_type": "stream",
     "text": [
      "Epoch 86: 100%|██| 200/200 [00:00<00:00, 229.87batch/s, acc=0.942, loss=2.29e-6]\n"
     ]
    },
    {
     "name": "stdout",
     "output_type": "stream",
     "text": [
      "TEST ACC: 0.9416278600692749\n",
      "TEST LOCC: 2.1705892086029053\n"
     ]
    },
    {
     "name": "stderr",
     "output_type": "stream",
     "text": [
      "Epoch 87: 100%|██| 200/200 [00:00<00:00, 291.58batch/s, acc=0.942, loss=2.08e-6]\n"
     ]
    },
    {
     "name": "stdout",
     "output_type": "stream",
     "text": [
      "TEST ACC: 0.9418622255325317\n",
      "TEST LOCC: 2.1790685653686523\n"
     ]
    },
    {
     "name": "stderr",
     "output_type": "stream",
     "text": [
      "Epoch 88: 100%|██| 200/200 [00:00<00:00, 246.54batch/s, acc=0.942, loss=1.88e-6]\n"
     ]
    },
    {
     "name": "stdout",
     "output_type": "stream",
     "text": [
      "TEST ACC: 0.9420920014381409\n",
      "TEST LOCC: 2.1873674392700195\n"
     ]
    },
    {
     "name": "stderr",
     "output_type": "stream",
     "text": [
      "Epoch 89: 100%|███| 200/200 [00:01<00:00, 189.62batch/s, acc=0.943, loss=1.7e-6]\n"
     ]
    },
    {
     "name": "stdout",
     "output_type": "stream",
     "text": [
      "TEST ACC: 0.9423166513442993\n",
      "TEST LOCC: 2.1958909034729004\n"
     ]
    },
    {
     "name": "stderr",
     "output_type": "stream",
     "text": [
      "Epoch 90: 100%|██| 200/200 [00:00<00:00, 240.91batch/s, acc=0.943, loss=1.55e-6]\n"
     ]
    },
    {
     "name": "stdout",
     "output_type": "stream",
     "text": [
      "TEST ACC: 0.9425364136695862\n",
      "TEST LOCC: 2.2036631107330322\n"
     ]
    },
    {
     "name": "stderr",
     "output_type": "stream",
     "text": [
      "Epoch 91: 100%|███| 200/200 [00:00<00:00, 240.53batch/s, acc=0.943, loss=1.4e-6]\n"
     ]
    },
    {
     "name": "stdout",
     "output_type": "stream",
     "text": [
      "TEST ACC: 0.9427513480186462\n",
      "TEST LOCC: 2.212383508682251\n"
     ]
    },
    {
     "name": "stderr",
     "output_type": "stream",
     "text": [
      "Epoch 92: 100%|██| 200/200 [00:00<00:00, 257.50batch/s, acc=0.943, loss=1.27e-6]\n"
     ]
    },
    {
     "name": "stdout",
     "output_type": "stream",
     "text": [
      "TEST ACC: 0.9429616928100586\n",
      "TEST LOCC: 2.2469263076782227\n"
     ]
    },
    {
     "name": "stderr",
     "output_type": "stream",
     "text": [
      "Epoch 93: 100%|██| 200/200 [00:00<00:00, 250.57batch/s, acc=0.943, loss=1.14e-6]\n"
     ]
    },
    {
     "name": "stdout",
     "output_type": "stream",
     "text": [
      "TEST ACC: 0.9431675672531128\n",
      "TEST LOCC: 2.2816848754882812\n"
     ]
    },
    {
     "name": "stderr",
     "output_type": "stream",
     "text": [
      "Epoch 94: 100%|██| 200/200 [00:00<00:00, 231.86batch/s, acc=0.944, loss=1.03e-6]\n"
     ]
    },
    {
     "name": "stdout",
     "output_type": "stream",
     "text": [
      "TEST ACC: 0.9433697462081909\n",
      "TEST LOCC: 2.2897534370422363\n"
     ]
    },
    {
     "name": "stderr",
     "output_type": "stream",
     "text": [
      "Epoch 95: 100%|██| 200/200 [00:00<00:00, 236.79batch/s, acc=0.944, loss=9.36e-7]\n"
     ]
    },
    {
     "name": "stdout",
     "output_type": "stream",
     "text": [
      "TEST ACC: 0.9435683488845825\n",
      "TEST LOCC: 2.3246991634368896\n"
     ]
    },
    {
     "name": "stderr",
     "output_type": "stream",
     "text": [
      "Epoch 96: 100%|██| 200/200 [00:00<00:00, 259.28batch/s, acc=0.944, loss=8.47e-7]\n"
     ]
    },
    {
     "name": "stdout",
     "output_type": "stream",
     "text": [
      "TEST ACC: 0.9437628984451294\n",
      "TEST LOCC: 2.3326969146728516\n"
     ]
    },
    {
     "name": "stderr",
     "output_type": "stream",
     "text": [
      "Epoch 97: 100%|██| 200/200 [00:00<00:00, 260.62batch/s, acc=0.944, loss=7.64e-7]\n"
     ]
    },
    {
     "name": "stdout",
     "output_type": "stream",
     "text": [
      "TEST ACC: 0.9439534544944763\n",
      "TEST LOCC: 2.3676319122314453\n"
     ]
    },
    {
     "name": "stderr",
     "output_type": "stream",
     "text": [
      "Epoch 98:  54%|█ | 107/200 [00:00<00:00, 238.35batch/s, acc=0.944, loss=5.12e-7]"
     ]
    }
   ],
   "source": [
    "import torch\n",
    "from torcheval.metrics import BinaryAccuracy\n",
    "import math \n",
    "import copy\n",
    "import numpy as np\n",
    "import tqdm\n",
    "from sklearn.model_selection import train_test_split\n",
    "\n",
    "\n",
    "# https://machinelearningmastery.com/building-a-binary-classification-model-in-pytorch/\n",
    "BA_metric = BinaryAccuracy()\n",
    "\n",
    "# training parameters\n",
    "n_epochs = 100   # number of epochs to run\n",
    "batch_size = 64  # size of each batch\n",
    "batch_start = torch.arange(0, len(X_train_tensor), batch_size)\n",
    "\n",
    "# Hold the best model\n",
    "best_acc = 0   # init 0\n",
    "best_weights = None\n",
    "history = []\n",
    "r2_history = []\n",
    "\n",
    "\n",
    "model.train()\n",
    "\n",
    "# training loop\n",
    "for epoch in range(n_epochs):\n",
    "    #creation of validation/development set: \n",
    "    #this is kinda like cross validation\n",
    "    with tqdm.tqdm(batch_start, unit=\"batch\", mininterval=0, disable=False) as bar:\n",
    "        bar.set_description(f\"Epoch {epoch}\")\n",
    "        for start in bar:\n",
    "            # take a batch\n",
    "            X_batch = X_train_tensor[start:start+batch_size]\n",
    "            y_batch = y_train_tensor[start:start+batch_size]\n",
    "            # forward pass\n",
    "            y_pred = model(X_batch)\n",
    "\n",
    "            #unsqueeze?\n",
    "            y_batch = y_batch.unsqueeze(1)\n",
    "            # y_pred = y_pred.unsqueeze(1)\n",
    "\n",
    "            loss = loss_fn(y_pred, y_batch)\n",
    "            BA_metric.update(y_pred.squeeze(-1), y_batch.squeeze(-1))\n",
    "            #print(float(loss))\n",
    "\n",
    "            #record training_loss \n",
    "            history.append(float(loss))\n",
    "            #r2_metric.update(y_pred, y_test)\n",
    "            #r_2 = r2_metric.compute()\n",
    "            #r2_history.append(r_2)\n",
    "\n",
    "            #I don't like the Nans\n",
    "            if(math.isnan(loss)):\n",
    "                pass\n",
    "            else:\n",
    "                # backward pass\n",
    "                optimizer.zero_grad()\n",
    "                loss.backward()\n",
    "                # update weights\n",
    "                optimizer.step()\n",
    "                # print progress\n",
    "                bar.set_postfix(loss=float(loss), acc=float(BA_metric.compute()))\n",
    "                \n",
    "    # evaluate accuracy at end of each epoch\n",
    "    model.eval()\n",
    "    y_pred = model(X_val_tensor)\n",
    "    BA_metric.update(y_pred.squeeze(-1), y_val_tensor.squeeze(-1))\n",
    "    bacc = float(BA_metric.compute())\n",
    "    bceloss = loss_fn(y_pred, y_val_tensor)\n",
    "    bceloss = float(bceloss)\n",
    "    print(\"TEST ACC: \" + str(bacc))\n",
    "    print(\"TEST LOCC: \" + str(bceloss))\n",
    "\n",
    "    # history.append(bceloss)\n",
    "\n",
    "    if bacc > best_acc:\n",
    "        best_acc = bacc\n",
    "        best_weights = copy.deepcopy(model.state_dict())\n",
    "\n",
    "        \n",
    "#only evaluate the model in TEST at the very end \n",
    "model.eval()\n",
    "y_pred = model(X_test_tensor)\n",
    "final_loss = loss_fn(y_pred, y_test_tensor)\n",
    "final_loss = float(final_loss)\n",
    "print(\"TEST LOSS: \" + str(final_loss))\n",
    "\n",
    "\n",
    "# restore model and return best accuracy\n",
    "model.load_state_dict(best_weights)"
   ]
  },
  {
   "cell_type": "code",
   "execution_count": null,
   "id": "625b4bed-3335-4b29-8ded-654fae81fd01",
   "metadata": {},
   "outputs": [],
   "source": [
    "import matplotlib.pyplot as plt\n",
    "import os \n",
    "\n",
    "pathtotal = \"saved_models/\" + celltype\n",
    "os.makedirs(pathtotal, exist_ok=True)\n",
    "\n",
    "\n",
    "print(\"MODEL ARCHITECTURE:\")\n",
    "print(model)\n",
    "torch.save(model.state_dict(), f'saved_models/{celltype}/model_2layer.pth')\n",
    "\n",
    "\n",
    "model.eval()\n",
    "y_pred = model(X_test_tensor)\n",
    "final_loss = loss_fn(y_pred, y_test_tensor)\n",
    "final_loss = float(final_loss)\n",
    "\n",
    "BA_metric.update(y_pred.squeeze(-1), y_test_tensor.squeeze(-1))\n",
    "final_bacc = float(BA_metric.compute())\n",
    "\n",
    "print(\"Train ACC: %.2f\" % best_acc)\n",
    "print(\"Test ACC: %.2f\" % final_bacc)\n",
    "\n",
    "with open(pathtotal+\"/results.txt\", \"w\") as file:\n",
    "    file.write(\"MODEL ARCHITECTURE:\")\n",
    "    file.write(str(model))\n",
    "    file.write(\"Train ACC: %.2f\" % best_acc)\n",
    "    file.write(\"Test ACC: %.2f\" % final_bacc)\n",
    "    \n",
    "\n",
    "plt.plot(history)\n",
    "plt.title(f\"2 Layer DNN on {celltype} DATA, Training Loss Overtime\")\n",
    "plt.show()\n",
    "plt.savefig(f'saved_models/{celltype}/training_loss_2layer.png')\n",
    "\n",
    "\n",
    "\n",
    "\n",
    "from sklearn.metrics import roc_curve, auc\n",
    "import matplotlib.pyplot as plt\n",
    " \n",
    "with torch.no_grad():\n",
    "    # Plot the ROC curve\n",
    "    y_pred = model(X_test_tensor)\n",
    "    fpr, tpr, thresholds = roc_curve(y_test_tensor, y_pred)\n",
    "    roc_auc = auc(fpr, tpr)\n",
    "    plt.plot(fpr, tpr, label=f'2 Layer DNN (AUC = {roc_auc:.2f})')\n",
    "    plt.legend()\n",
    "    plt.plot([0, 1], [0, 1], 'r--', label='Random Guess')\n",
    "    plt.title(\"Receiver Operating Characteristics\")\n",
    "    plt.xlabel(\"False Positive Rate\")\n",
    "    plt.ylabel(\"True Positive Rate\")\n",
    "    plt.show()\n",
    "    plt.savefig(f'saved_models/{celltype}/AUCROC_2layer.png')\n",
    "\n",
    "import shap\n",
    "explainer = shap.DeepExplainer(model, X_train_tensor[:100])\n",
    "shap_values = explainer.shap_values(X_test_tensor[:100])\n",
    "plt.title(f\"SHAP on {celltype} DATA\")\n",
    "shap.summary_plot(shap_values.squeeze(-1), X_test_tensor[:100], feature_names = final_df.columns)\n",
    "plt.savefig(f'saved_models/{celltype}/shap_summary_plot_2layer.png')"
   ]
  },
  {
   "cell_type": "code",
   "execution_count": null,
   "id": "eee755c4-5632-43d9-9032-f5861acb2e4f",
   "metadata": {},
   "outputs": [],
   "source": []
  },
  {
   "cell_type": "code",
   "execution_count": null,
   "id": "a1ba810a-8003-489b-be11-f19565700cd7",
   "metadata": {},
   "outputs": [],
   "source": []
  },
  {
   "cell_type": "code",
   "execution_count": null,
   "id": "118ce6f0-bca2-4d1a-ba07-0a79a7ef9bdd",
   "metadata": {},
   "outputs": [],
   "source": []
  },
  {
   "cell_type": "code",
   "execution_count": null,
   "id": "aebc11a6-601f-4cc6-a2b4-447ea6ac30f9",
   "metadata": {},
   "outputs": [],
   "source": []
  }
 ],
 "metadata": {
  "kernelspec": {
   "display_name": "Python 3 (ipykernel)",
   "language": "python",
   "name": "python3"
  },
  "language_info": {
   "codemirror_mode": {
    "name": "ipython",
    "version": 3
   },
   "file_extension": ".py",
   "mimetype": "text/x-python",
   "name": "python",
   "nbconvert_exporter": "python",
   "pygments_lexer": "ipython3",
   "version": "3.9.16"
  }
 },
 "nbformat": 4,
 "nbformat_minor": 5
}
