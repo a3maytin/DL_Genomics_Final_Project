{
 "cells": [
  {
   "cell_type": "code",
   "execution_count": 1,
   "metadata": {},
   "outputs": [],
   "source": [
    "import pandas as pd\n",
    "import json\n",
    "import pickle\n",
    "import numpy as np\n",
    "import matplotlib.pyplot as plt\n",
    "from sklearn.feature_selection import SelectFromModel \n",
    "from sklearn.linear_model import LassoCV, RidgeClassifier, Lasso, LogisticRegression, ElasticNet\n",
    "from sklearn.model_selection import GridSearchCV, RandomizedSearchCV, train_test_split\n",
    "from sklearn.preprocessing import RobustScaler, StandardScaler, MaxAbsScaler, MinMaxScaler\n",
    "from sklearn.utils import resample\n",
    "import xgboost as xgb\n",
    "import torch"
   ]
  },
  {
   "cell_type": "markdown",
   "metadata": {},
   "source": [
    "## Scripts"
   ]
  },
  {
   "cell_type": "markdown",
   "metadata": {},
   "source": [
    "### Clean and Split Data"
   ]
  },
  {
   "cell_type": "code",
   "execution_count": 2,
   "metadata": {},
   "outputs": [],
   "source": [
    "def clean_split_data(input_df_filepath, downsample = False):\n",
    "    with open(input_df_filepath, \"rb\") as df_file:\n",
    "        total_df = pickle.load(df_file)\n",
    "\n",
    "    initial_feats = total_df.shape[1]\n",
    "    #input dataframe assumed to only have cell type, Braak stage, and disease columns other than gene data\n",
    "    total_df = total_df.drop(columns=['cell_type', 'Braak.stage'])\n",
    "    total_df['disease'] = total_df['disease'].map({'normal' : 0, 'Alzheimer disease' : 1})\n",
    "\n",
    "    total_df = total_df.dropna(axis=1, how=\"any\")\n",
    "    nan_columns = [col for col in total_df.columns if pd.isna(col)]\n",
    "    total_df = total_df.drop(columns=nan_columns)\n",
    "    const_columns = [col for col in total_df.columns if total_df[col].nunique() == 1]\n",
    "    total_df = total_df.drop(columns=const_columns)\n",
    "\n",
    "    if downsample:\n",
    "        AD_samples = total_df[total_df['disease'] == 1]\n",
    "        normal_samples = total_df[total_df['disease'] == 0]\n",
    "        AD_downsampled = resample(AD_samples, replace=False, n_samples=10000, random_state=42)\n",
    "        normal_downsampled = resample(normal_samples, replace=False, n_samples=10000, random_state=42)\n",
    "        total_df = pd.concat([AD_downsampled, normal_downsampled])\n",
    "\n",
    "    features = total_df.drop('disease', axis=1)\n",
    "    labels = total_df['disease']\n",
    "\n",
    "    print(f'Removed NaN or Constant Features: {initial_feats - total_df.shape[1]}')\n",
    "\n",
    "    X_temp, X_test, y_temp, y_test = train_test_split(features, labels, test_size = 0.2, random_state = 100, stratify = labels)\n",
    "    X_train, X_val, y_train, y_val = train_test_split(X_temp, y_temp, test_size=0.2, random_state=100, stratify= y_temp)\n",
    "\n",
    "    print(\"Train set has\", len(y_train[y_train == 0]), \"normal samples and\", len(y_train[y_train == 1]), \"diseased AD samples\")\n",
    "    print(\"Validation set has\", len(y_val[y_val == 0]), \"normal samples and\", len(y_val[y_val == 1]), \"diseased AD samples\")\n",
    "    print(\"Test set has\", len(y_test[y_test == 0]), \"normal samples and\", len(y_test[y_test== 1]), \"diseased AD samples\")\n",
    "\n",
    "    return X_train, X_val, X_test, y_train, y_val, y_test"
   ]
  },
  {
   "cell_type": "code",
   "execution_count": 12,
   "metadata": {},
   "outputs": [],
   "source": [
    "def remove_constants(X_train, X_val, X_test):\n",
    "    init_fnum = X_train.shape[1]\n",
    "    \n",
    "    const_columns = [col for col in X_train.columns if X_train[col].nunique() == 1]\n",
    "    X_train = X_train.drop(columns=const_columns)\n",
    "    X_test = X_test.drop(columns=const_columns)\n",
    "    X_val = X_val.drop(columns=const_columns)\n",
    "\n",
    "    print(f'Removed Features Null in Training Set: {init_fnum - X_train.shape[1]}')\n",
    "    print(f'Number of Features: {X_train.shape[1]}')\n",
    "\n",
    "    return X_train, X_val, X_test"
   ]
  },
  {
   "cell_type": "markdown",
   "metadata": {},
   "source": [
    "### Scaling"
   ]
  },
  {
   "cell_type": "code",
   "execution_count": 4,
   "metadata": {},
   "outputs": [],
   "source": [
    "#https://github.com/christianversloot/machine-learning-articles/blob/main/feature-scaling-with-python-and-sparse-data.md\n",
    "#recommends best way to scale sparse data is max absolute scaling\n",
    "def scale_features(X_train, X_val, X_test, scaler_type, clip: bool):\n",
    "    if scaler_type == \"robust\":\n",
    "        scaler = RobustScaler() \n",
    "    elif scaler_type == \"maxabs\":\n",
    "        scaler = MaxAbsScaler()\n",
    "    else:\n",
    "        scaler = StandardScaler()\n",
    "    scaled_X_train = scaler.fit_transform(X_train)\n",
    "\n",
    "    if clip: \n",
    "        X_test = X_test.clip(lower=X_train.min(), upper=X_train.max(), axis=1)\n",
    "        X_val = X_val.clip(lower=X_train.min(), upper = X_train.max(), axis=1)\n",
    "    \n",
    "    scaled_X_test = scaler.transform(X_test)\n",
    "    scaled_X_val = scaler.transform(X_val)\n",
    "    X_train_df = pd.DataFrame.sparse.from_spmatrix(scaled_X_train, index=X_train.index, columns=X_train.columns)\n",
    "    X_test_df = pd.DataFrame.sparse.from_spmatrix(scaled_X_test, index=X_test.index, columns=X_test.columns)\n",
    "    X_val_df = pd.DataFrame.sparse.from_spmatrix(scaled_X_val, index=X_val.index, columns=X_val.columns)\n",
    "\n",
    "    return X_train_df, X_val_df, X_test_df"
   ]
  },
  {
   "cell_type": "markdown",
   "metadata": {},
   "source": [
    "### Remove Collinearity"
   ]
  },
  {
   "cell_type": "code",
   "execution_count": 5,
   "metadata": {},
   "outputs": [],
   "source": [
    "class CollinearityRemover:\n",
    "    def __init__(self, action, xtrain, ytrain, filename, threshold, data_path=\"/users/acmaytin/csci2952g/final_project/data/preprocessing_output/\"):\n",
    "        self.corr_tri_mx, self.corr_full_mx = self._calc_corr_mx(action, xtrain, filename, data_path)\n",
    "        self.threshold = threshold\n",
    "        self.corr_pairs = self._calc_pairs(self.corr_tri_mx, self.threshold)\n",
    "        self.corr_counts = (self.corr_full_mx > self.threshold).sum()\n",
    "        self.priority_features = self._get_priority_features()\n",
    "        self.both_priority = list()\n",
    "\n",
    "    def _calc_corr_mx(self, action, xtrain, filename, data_path):\n",
    "        if action == 'load':\n",
    "            corr_mx = pd.read_pickle(data_path + filename + '.pkl')\n",
    "        else:\n",
    "            corr_mx = xtrain.corr().abs()\n",
    "            corr_mx.to_pickle(data_path + filename + '.pkl')\n",
    "        full_mx = corr_mx.copy()\n",
    "        np.fill_diagonal(full_mx.values, 0)\n",
    "        tri_mx = corr_mx.where(np.triu(np.ones(corr_mx.shape), k=1).astype(bool))\n",
    "        return tri_mx, full_mx\n",
    "\n",
    "    def _calc_pairs(self, corr_mx, threshold):\n",
    "        correlated_indices = np.where(corr_mx > threshold) \n",
    "        correlated_pairs = list(zip(corr_mx.index[correlated_indices[0]], corr_mx.columns[correlated_indices[1]]))\n",
    "        return correlated_pairs\n",
    "\n",
    "    #List of genes known to be mutated in Burkitt lymphoma: https://adsp.niagads.org/gvc-top-hits-list/\n",
    "    def _get_priority_features(self):\n",
    "        with open(\"/users/acmaytin/csci2952g/final_project/data/known_genes.txt\", 'r') as file:\n",
    "            priority_features = [line.rstrip() for line in file]\n",
    "        new_features = []\n",
    "        for gene in priority_features:\n",
    "            new_features.append(str(gene + \" mut\"))\n",
    "        priority_features = set(priority_features + new_features)\n",
    "        return priority_features\n",
    "\n",
    "    #return the feature to drop\n",
    "    def _calc_drop_feature(self, feat1, feat2, xtrain, ytrain, method):\n",
    "        if method == 'variance':\n",
    "            v1 = xtrain[feat1].sparse.to_dense().var()\n",
    "            v2 = xtrain[feat2].sparse.to_dense().var()\n",
    "            return feat1 if (v1 < v2) else (feat2 if v1 > v2 else None)\n",
    "        elif method == 'ytrain correlation':\n",
    "            c1 = abs(xtrain[feat1].corr(ytrain))\n",
    "            c2 = abs(xtrain[feat2].corr(ytrain))\n",
    "            return feat1 if (c1 < c2) else (feat2 if c1 > c2 else None)\n",
    "        elif method == 'correlation counts':\n",
    "            cc1 = self.corr_counts[feat1]\n",
    "            cc2 = self.corr_counts[feat2]\n",
    "            return feat1 if (cc1 > cc2) else (feat2 if cc1 < cc2 else None)\n",
    "        elif method == 'outliers':\n",
    "            oc1 = self._calc_outlier_count(xtrain, feat1)\n",
    "            oc2 = self._calc_outlier_count(xtrain, feat2)\n",
    "            return feat1 if (oc1 > oc2) else (feat2 if oc1 < oc2 else None)\n",
    "        else:\n",
    "            print('Not a valid method')\n",
    "\n",
    "    def _calc_outlier_count(self, xtrain, feature):\n",
    "        Q1 = xtrain[feature].quantile(0.25)\n",
    "        Q3 = xtrain[feature].quantile(0.75)\n",
    "        IQR = Q3 - Q1\n",
    "        UB = Q3 + 1.5 * IQR\n",
    "        LB = Q1 - 1.5 * IQR\n",
    "        outliers = xtrain[(xtrain[feature] < LB) | (xtrain[feature] > UB)]\n",
    "        return len(outliers)\n",
    "\n",
    "    def _choose_drop_feature(self, feat1, feat2, xtrain, ytrain, method1, method2):\n",
    "        to_drop1 = self._calc_drop_feature(feat1, feat2, xtrain, ytrain, method1)\n",
    "        to_drop2 = self._calc_drop_feature(feat1, feat2, xtrain, ytrain, method2)\n",
    "        if to_drop1: return to_drop1\n",
    "        elif to_drop2: return to_drop2\n",
    "        else: return feat1\n",
    "\n",
    "    def get_colinear_features(self, xtrain, ytrain, method1, method2):\n",
    "        to_remove = set()\n",
    "        features_to_check = self.corr_counts.loc[self.corr_counts > 0].index.tolist()\n",
    "        print(f\"-------------------------------------------------------\\nChecking {len(features_to_check)} features with correlations >= {self.threshold}\")\n",
    "        for pair in self.corr_pairs:\n",
    "            f1, f2 = pair[0], pair[1]\n",
    "            #logic to prioritize known genes\n",
    "            if f1 in self.priority_features and f2 in self.priority_features:\n",
    "                to_remove.add(self._choose_drop_feature(f1, f2, xtrain, ytrain, method1, method2))\n",
    "                self.both_priority.append((f1, f2))\n",
    "            elif f1 in self.priority_features:\n",
    "                to_remove.add(f2)\n",
    "            elif f2 in self.priority_features:\n",
    "                to_remove.add(f1)\n",
    "            #logic for non-priority genes:\n",
    "            else:\n",
    "                to_remove.add(self._choose_drop_feature(f1, f2, xtrain, ytrain, method1, method2))\n",
    "        \n",
    "        print(f'Primary Method: {method1}')\n",
    "        print(f'Secondary Method: {method2}')\n",
    "        print(f'Found {len(to_remove)} features to remove')\n",
    "        return to_remove "
   ]
  },
  {
   "cell_type": "code",
   "execution_count": 6,
   "metadata": {},
   "outputs": [],
   "source": [
    "def calc_genes_to_remove(cell_type, X_train, y_train, load = False):\n",
    "    corr_mx_filename = f\"/correlation_matrix_{cell_type}\"\n",
    "    data_path = \"/users/acmaytin/csci2952g/final_project/data/preprocessing_output\"\n",
    "    #switch to 'load' after correlation_matrix is made\n",
    "    if load:\n",
    "        c_remover = CollinearityRemover('load', xtrain=X_train, ytrain=y_train, threshold=0.80, filename=corr_mx_filename, data_path=data_path)\n",
    "    else:\n",
    "        c_remover = CollinearityRemover(None, xtrain=X_train, ytrain=y_train, threshold=0.80, filename=corr_mx_filename, data_path=data_path)\n",
    "    to_remove = c_remover.get_colinear_features(X_train, y_train, 'correlation counts', 'variance')\n",
    "\n",
    "    to_remove_filepath = f\"/users/acmaytin/csci2952g/final_project/data/preprocessing_output/to_remove_{cell_type}\"\n",
    "    with open(to_remove_filepath, \"wb\") as tr:\n",
    "        pickle.dump(to_remove, tr)\n",
    "        \n",
    "    return to_remove_filepath"
   ]
  },
  {
   "cell_type": "code",
   "execution_count": 7,
   "metadata": {},
   "outputs": [],
   "source": [
    "def remove_collinearity(X_train, X_val, X_test, remove_filepath):\n",
    "    with open(remove_filepath, \"rb\") as file:\n",
    "        to_remove = pickle.load(file)\n",
    "    X_train_removed = X_train.drop(columns=to_remove)\n",
    "    X_test_removed = X_test.drop(columns=to_remove)\n",
    "    X_val_removed = X_val.drop(columns=to_remove)\n",
    "    print(f'Number of Features after Collinearity Removal: {X_train_removed.shape[1]}')\n",
    "\n",
    "    return X_train_removed, X_val_removed, X_test_removed"
   ]
  },
  {
   "cell_type": "markdown",
   "metadata": {},
   "source": [
    "### Feature Selection"
   ]
  },
  {
   "cell_type": "code",
   "execution_count": 8,
   "metadata": {},
   "outputs": [],
   "source": [
    "def tuned_selector(X, y, cv: int = 3, iter_num: int = 10, seed: int = 42):\n",
    "    lasso_grid = {'alpha' : [0.0001, 0.001, 0.01, 0.1, 1], 'selection' : ['cyclic', 'random'], 'max_iter' : [10000]}\n",
    "    est = Lasso()\n",
    "\n",
    "    search = RandomizedSearchCV(est, lasso_grid, cv = cv, n_iter = iter_num, random_state=seed)\n",
    "    search.fit(X, y)\n",
    "    best_params = search.best_params_\n",
    "    selector = SelectFromModel(search.best_estimator_, prefit=True).fit(X, y)\n",
    "    features = selector.get_feature_names_out().tolist()\n",
    "    return {'params': best_params, 'features': features}\n",
    "\n",
    "def select_features(X_train, X_val, X_test, cell_type):\n",
    "    results = tuned_selector(X_train, y_train, cv = 3, seed=20)\n",
    "    select_filepath = f'/users/acmaytin/csci2952g/final_project/data/preprocessing_output/final_features_{cell_type}.json'\n",
    "    with open(select_filepath, \"w\") as file:\n",
    "        json.dump(results, file, indent=4)\n",
    "    selected_cols = results['features']\n",
    "    X_train_final = X_train[selected_cols]\n",
    "    X_val_final = X_val[selected_cols]\n",
    "    X_test_final = X_test[selected_cols]\n",
    "    print(f'Number of Features after LASSO feature selection: {X_train_final.shape[1]}')\n",
    "\n",
    "    return X_test_final, X_val_final, X_test_final"
   ]
  },
  {
   "cell_type": "markdown",
   "metadata": {},
   "source": [
    "### Create and Store DataFrames"
   ]
  },
  {
   "cell_type": "code",
   "execution_count": 9,
   "metadata": {},
   "outputs": [],
   "source": [
    "# def create_selected_df(input_df: pd.DataFrame, results_filepath: str):        \n",
    "#     with open(results_filepath, \"r\") as file:\n",
    "#         results = json.load(file)\n",
    "#     selected_list = results['features']\n",
    "#     selected_df = input_df[selected_list]\n",
    "\n",
    "def store_selected_df(cell_type, X_train, X_val, X_test):\n",
    "    store_filepath = f\"/users/acmaytin/csci2952g/final_project/data/preprocessing_output/final_dataframes_{cell_type}.pkl\"\n",
    "    # results_filepath = f'/users/acmaytin/csci2952g/final_project/data/preprocessing_output/final_features_{cell_type}.json'\n",
    "    # X_train_final = create_selected_df(X_train, results_filepath)\n",
    "    # X_val_final = create_selected_df(X_val, results_filepath)\n",
    "    # X_test_final = create_selected_df(X_test, results_filepath)\n",
    "    with open(store_filepath, \"wb\") as train_test_file:\n",
    "        pickle.dump(X_train, train_test_file)\n",
    "        pickle.dump(X_val, train_test_file)\n",
    "        pickle.dump(X_test, train_test_file)"
   ]
  },
  {
   "cell_type": "markdown",
   "metadata": {},
   "source": [
    "### Create and Store Tensors"
   ]
  },
  {
   "cell_type": "code",
   "execution_count": 10,
   "metadata": {},
   "outputs": [],
   "source": [
    "# def create_tensor(input_df: pd.DataFrame):\n",
    "#     tensor_result = torch.tensor(input_df.values, dtype = torch.float32)\n",
    "#     return tensor_result"
   ]
  },
  {
   "cell_type": "code",
   "execution_count": 11,
   "metadata": {},
   "outputs": [],
   "source": [
    "def store_tensors(cell_type, X_train, X_val, X_test):\n",
    "    X_train_tensor = torch.tensor(X_train.values, dtype=torch.float32) \n",
    "    X_test_tensor = torch.tensor(X_test.values, dtype=torch.float32)\n",
    "    X_val_tensor = torch.tensor(X_val.values, dtype=torch.float32)\n",
    "\n",
    "    y_train_tensor = torch.tensor(y_train.values, dtype=torch.float32)\n",
    "    y_test_tensor = torch.tensor(y_test.values, dtype=torch.float32)\n",
    "    y_val_tensor = torch.tensor(y_val.values, dtype=torch.float32)\n",
    "\n",
    "    file_name = f\"/users/acmaytin/csci2952g/final_project/data/preprocessing_output/tensors_{cell_type}.pkl\"\n",
    "    with open(file_name, \"wb\") as train_test_file:\n",
    "        pickle.dump(X_train_tensor, train_test_file)\n",
    "        pickle.dump(X_test_tensor, train_test_file)\n",
    "        pickle.dump(X_val_tensor, train_test_file)\n",
    "        pickle.dump(y_train_tensor, train_test_file)\n",
    "        pickle.dump(y_val_tensor, train_test_file)\n",
    "        pickle.dump(y_test_tensor, train_test_file)"
   ]
  },
  {
   "cell_type": "markdown",
   "metadata": {},
   "source": [
    "## Microglial Cells"
   ]
  },
  {
   "cell_type": "code",
   "execution_count": 22,
   "metadata": {},
   "outputs": [
    {
     "name": "stdout",
     "output_type": "stream",
     "text": [
      "Removed NaN or Constant Features: 3572\n",
      "Train set has 505 normal samples and 2739 diseased AD samples\n",
      "Validation set has 126 normal samples and 686 diseased AD samples\n",
      "Test set has 158 normal samples and 857 diseased AD samples\n",
      "Removed Features Null in Training Set: 460\n",
      "Number of Features: 15963\n"
     ]
    }
   ],
   "source": [
    "X_train, X_val, X_test, y_train, y_val, y_test = clean_split_data(\"/users/acmaytin/csci2952g/final_project/data/cell_type_pkl_files/microglial.pkl\")\n",
    "X_train_clean, X_val_clean, X_test_clean = remove_constants(X_train, X_val, X_test)"
   ]
  },
  {
   "cell_type": "code",
   "execution_count": 70,
   "metadata": {},
   "outputs": [
    {
     "data": {
      "image/png": "[encoded data removed]",
      "text/plain": [
       "<Figure size 640x480 with 1 Axes>"
      ]
     },
     "metadata": {},
     "output_type": "display_data"
    }
   ],
   "source": [
    "values = X_test.values.tolist()\n",
    "values = np.asarray(values, dtype='float')\n",
    "plt.hist(values)\n",
    "plt.show()"
   ]
  },
  {
   "cell_type": "code",
   "execution_count": 13,
   "metadata": {},
   "outputs": [],
   "source": [
    "X_train_scaled, X_val_scaled, X_test_scaled = scale_features(X_train_clean, X_val_clean, X_test_clean, 'maxabs', clip=False)"
   ]
  },
  {
   "cell_type": "code",
   "execution_count": 60,
   "metadata": {},
   "outputs": [
    {
     "data": {
      "image/png": "[encoded data removed]",
      "text/plain": [
       "<Figure size 640x480 with 1 Axes>"
      ]
     },
     "metadata": {},
     "output_type": "display_data"
    }
   ],
   "source": [
    "values = X_test_scaled.values.tolist()\n",
    "values = np.asarray(values, dtype='float')\n",
    "plt.hist(values)\n",
    "plt.show()"
   ]
  },
  {
   "cell_type": "code",
   "execution_count": 14,
   "metadata": {},
   "outputs": [
    {
     "name": "stdout",
     "output_type": "stream",
     "text": [
      "Number of Features after Collinearity Removal: 15619\n"
     ]
    }
   ],
   "source": [
    "# to_remove_filepath = calc_genes_to_remove('microglial', X_train, y_train, load = True)\n",
    "to_remove_filepath = \"/users/acmaytin/csci2952g/final_project/data/preprocessing_output/to_remove_microglial\"\n",
    "X_train_removed, X_val_removed, X_test_removed = remove_collinearity(X_train_scaled, X_val_scaled, X_test_scaled, to_remove_filepath)"
   ]
  },
  {
   "cell_type": "code",
   "execution_count": 15,
   "metadata": {},
   "outputs": [
    {
     "name": "stdout",
     "output_type": "stream",
     "text": [
      "Number of Features after LASSO feature selection: 944\n"
     ]
    }
   ],
   "source": [
    "X_train_selected, X_val_selected, X_test_selected = select_features(X_train_removed, X_val_removed, X_test_removed, 'microglial')"
   ]
  },
  {
   "cell_type": "code",
   "execution_count": 16,
   "metadata": {},
   "outputs": [],
   "source": [
    "store_selected_df('microglial', X_train_selected, X_val_selected, X_test_selected)\n",
    "store_tensors('microglial', X_train_selected, X_val_selected, X_test_selected)"
   ]
  },
  {
   "cell_type": "code",
   "execution_count": 69,
   "metadata": {},
   "outputs": [
    {
     "name": "stdout",
     "output_type": "stream",
     "text": [
      "---------\n",
      "torch.Size([3244])\n"
     ]
    },
    {
     "data": {
      "text/plain": [
       "(3244,)"
      ]
     },
     "metadata": {},
     "output_type": "display_data"
    },
    {
     "name": "stdout",
     "output_type": "stream",
     "text": [
      "---------\n",
      "torch.Size([812])\n"
     ]
    },
    {
     "data": {
      "text/plain": [
       "(812,)"
      ]
     },
     "metadata": {},
     "output_type": "display_data"
    },
    {
     "name": "stdout",
     "output_type": "stream",
     "text": [
      "---------\n",
      "torch.Size([1015])\n",
      "(1015,)\n"
     ]
    }
   ],
   "source": [
    "file_name = f\"/users/acmaytin/csci2952g/final_project/data/preprocessing_output/tensors_microglial.pkl\"\n",
    "\n",
    "with open(file_name, \"rb\") as train_test_file:\n",
    "    X_train_tensor = pickle.load(train_test_file)\n",
    "    X_test_tensor = pickle.load(train_test_file)\n",
    "    X_val_tensor = pickle.load(train_test_file)\n",
    "    y_train_tensor = pickle.load(train_test_file)\n",
    "    y_val_tensor = pickle.load(train_test_file)\n",
    "    y_test_tensor = pickle.load(train_test_file)\n",
    "\n",
    "# print(X_train_tensor)\n",
    "# display(X_train_selected)\n",
    "\n",
    "# print(X_val_tensor)\n",
    "# display(X_val_selected)\n",
    "\n",
    "# print(X_test_tensor)\n",
    "# display(X_test_selected)\n",
    "\n",
    "print('---------')\n",
    "print(y_train_tensor.shape)\n",
    "display(y_train.shape)\n",
    "\n",
    "print('---------')\n",
    "print(y_val_tensor.shape)\n",
    "display(y_val.shape)\n",
    "\n",
    "print('---------')\n",
    "print(y_test_tensor.shape)\n",
    "print(y_test.shape)"
   ]
  },
  {
   "cell_type": "markdown",
   "metadata": {},
   "source": [
    "## Astrocytes"
   ]
  },
  {
   "cell_type": "code",
   "execution_count": 12,
   "metadata": {},
   "outputs": [
    {
     "name": "stdout",
     "output_type": "stream",
     "text": [
      "Removed NaN or Constant Features: 2377\n",
      "Train set has 2141 normal samples and 7260 diseased AD samples\n",
      "Validation set has 535 normal samples and 1816 diseased AD samples\n",
      "Test set has 669 normal samples and 2270 diseased AD samples\n",
      "Removed Features Null in Training Set: 238\n",
      "Number of Features: 17380\n"
     ]
    }
   ],
   "source": [
    "X_train, X_val, X_test, y_train, y_val, y_test = clean_split_data(\"/users/acmaytin/csci2952g/final_project/data/cell_type_pkl_files/astrocyte.pkl\")\n",
    "X_train_clean, X_val_clean, X_test_clean = remove_constants(X_train, X_val, X_test)\n",
    "X_train_scaled, X_val_scaled, X_test_scaled = scale_features(X_train_clean, X_val_clean, X_test_clean, 'maxabs', clip=False)"
   ]
  },
  {
   "cell_type": "code",
   "execution_count": 14,
   "metadata": {},
   "outputs": [
    {
     "name": "stdout",
     "output_type": "stream",
     "text": [
      "-------------------------------------------------------\n",
      "Checking 107 features with correlations >= 0.8\n",
      "Not a valid method\n",
      "Not a valid method\n",
      "Not a valid method\n",
      "Not a valid method\n",
      "Not a valid method\n",
      "Not a valid method\n",
      "Not a valid method\n",
      "Not a valid method\n",
      "Not a valid method\n",
      "Not a valid method\n",
      "Not a valid method\n",
      "Not a valid method\n",
      "Not a valid method\n",
      "Not a valid method\n",
      "Not a valid method\n",
      "Not a valid method\n",
      "Not a valid method\n",
      "Not a valid method\n",
      "Not a valid method\n",
      "Not a valid method\n",
      "Not a valid method\n",
      "Not a valid method\n",
      "Not a valid method\n",
      "Not a valid method\n",
      "Not a valid method\n",
      "Not a valid method\n",
      "Not a valid method\n",
      "Not a valid method\n",
      "Not a valid method\n",
      "Not a valid method\n",
      "Not a valid method\n",
      "Not a valid method\n",
      "Not a valid method\n",
      "Not a valid method\n",
      "Not a valid method\n",
      "Not a valid method\n",
      "Not a valid method\n",
      "Not a valid method\n",
      "Not a valid method\n",
      "Not a valid method\n",
      "Not a valid method\n",
      "Not a valid method\n",
      "Not a valid method\n",
      "Not a valid method\n",
      "Not a valid method\n",
      "Not a valid method\n",
      "Not a valid method\n",
      "Not a valid method\n",
      "Not a valid method\n",
      "Not a valid method\n",
      "Not a valid method\n",
      "Not a valid method\n",
      "Not a valid method\n",
      "Not a valid method\n",
      "Not a valid method\n",
      "Not a valid method\n",
      "Not a valid method\n",
      "Not a valid method\n",
      "Not a valid method\n",
      "Not a valid method\n",
      "Primary Method: correlation counts\n",
      "Secondary Method: \n",
      "Found 55 features to remove\n",
      "Number of Features after Collinearity Removal: 17325\n"
     ]
    }
   ],
   "source": [
    "to_remove_filepath = calc_genes_to_remove('astrocyte', X_train, y_train, load = False)\n",
    "# to_remove_filepath = \"/users/acmaytin/csci2952g/final_project/data/preprocessing_output/to_remove_astrocyte\"\n",
    "X_train_removed, X_val_removed, X_test_removed = remove_collinearity(X_train_scaled, X_val_scaled, X_test_scaled, to_remove_filepath)"
   ]
  },
  {
   "cell_type": "code",
   "execution_count": null,
   "metadata": {},
   "outputs": [],
   "source": [
    "X_train_selected, X_val_selected, X_test_selected = select_features(X_train_removed, X_val_removed, X_test_removed, 'astrocyte')\n",
    "store_selected_df('astrocyte', X_train_selected, X_val_selected, X_test_selected)\n",
    "store_tensors('astrocyte', X_train_selected, X_val_selected, X_test_selected)"
   ]
  },
  {
   "cell_type": "markdown",
   "metadata": {},
   "source": [
    "## Oligodendrocyte"
   ]
  },
  {
   "cell_type": "code",
   "execution_count": null,
   "metadata": {},
   "outputs": [],
   "source": [
    "X_train, X_val, X_test, y_train, y_val, y_test = clean_split_data(\"/users/acmaytin/csci2952g/final_project/data/cell_type_pkl_files/oligodendrocyte.pkl\")\n",
    "X_train_clean, X_val_clean, X_test_clean = remove_constants(X_train, X_val, X_test)\n",
    "X_train_scaled, X_val_scaled, X_test_scaled = scale_features(X_train_clean, X_val_clean, X_test_clean, 'maxabs', clip=False)"
   ]
  },
  {
   "cell_type": "code",
   "execution_count": null,
   "metadata": {},
   "outputs": [],
   "source": [
    "to_remove_filepath = calc_genes_to_remove('oligodendrocyte', X_train, y_train, load = False)\n",
    "# to_remove_filepath = \"/users/acmaytin/csci2952g/final_project/data/preprocessing_output/to_remove_oligodendrocyte\"\n",
    "X_train_removed, X_val_removed, X_test_removed = remove_collinearity(X_train_scaled, X_val_scaled, X_test_scaled, to_remove_filepath)"
   ]
  },
  {
   "cell_type": "code",
   "execution_count": null,
   "metadata": {},
   "outputs": [],
   "source": [
    "X_train_selected, X_val_selected, X_test_selected = select_features(X_train_removed, X_val_removed, X_test_removed, 'oligodendrocyte')\n",
    "store_selected_df('oligodendrocyte', X_train_selected, X_val_selected, X_test_selected)\n",
    "store_tensors('oligodendrocyte', X_train_selected, X_val_selected, X_test_selected)"
   ]
  },
  {
   "cell_type": "markdown",
   "metadata": {},
   "source": [
    "## GABAergic Neuron"
   ]
  },
  {
   "cell_type": "code",
   "execution_count": 16,
   "metadata": {},
   "outputs": [
    {
     "name": "stdout",
     "output_type": "stream",
     "text": [
      "Removed NaN or Constant Features: 1525\n",
      "Train set has 9600 normal samples and 9600 diseased AD samples\n",
      "Validation set has 2400 normal samples and 2400 diseased AD samples\n",
      "Test set has 3000 normal samples and 3000 diseased AD samples\n",
      "Removed Features Null in Training Set: 492\n",
      "Number of Features: 17978\n"
     ]
    }
   ],
   "source": [
    "X_train, X_val, X_test, y_train, y_val, y_test = clean_split_data(\"/users/acmaytin/csci2952g/final_project/data/cell_type_pkl_files/GABAergic.pkl\", downsample=True)\n",
    "X_train_clean, X_val_clean, X_test_clean = remove_constants(X_train, X_val, X_test)\n",
    "X_train_scaled, X_val_scaled, X_test_scaled = scale_features(X_train_clean, X_val_clean, X_test_clean, 'maxabs', clip=False)"
   ]
  },
  {
   "cell_type": "code",
   "execution_count": null,
   "metadata": {},
   "outputs": [],
   "source": [
    "to_remove_filepath = calc_genes_to_remove('GABAergic', X_train, y_train, load = False)\n",
    "# to_remove_filepath = \"/users/acmaytin/csci2952g/final_project/data/preprocessing_output/to_remove_GABAergic\"\n",
    "X_train_removed, X_val_removed, X_test_removed = remove_collinearity(X_train_scaled, X_val_scaled, X_test_scaled, to_remove_filepath)"
   ]
  },
  {
   "cell_type": "code",
   "execution_count": null,
   "metadata": {},
   "outputs": [],
   "source": [
    "X_train_selected, X_val_selected, X_test_selected = select_features(X_train_removed, X_val_removed, X_test_removed, 'GABAergic')\n",
    "store_selected_df('GABAergic', X_train_selected, X_val_selected, X_test_selected)\n",
    "store_tensors('GABAergic', X_train_selected, X_val_selected, X_test_selected)"
   ]
  },
  {
   "cell_type": "markdown",
   "metadata": {},
   "source": [
    "## Glutamatergic Neuron"
   ]
  },
  {
   "cell_type": "code",
   "execution_count": 13,
   "metadata": {},
   "outputs": [
    {
     "name": "stdout",
     "output_type": "stream",
     "text": [
      "Removed NaN or Constant Features: 1080\n",
      "Train set has 9600 normal samples and 9600 diseased AD samples\n",
      "Validation set has 2400 normal samples and 2400 diseased AD samples\n",
      "Test set has 3000 normal samples and 3000 diseased AD samples\n",
      "Removed Features Null in Training Set: 758\n",
      "Number of Features: 18157\n"
     ]
    }
   ],
   "source": [
    "X_train, X_val, X_test, y_train, y_val, y_test = clean_split_data(\"/users/acmaytin/csci2952g/final_project/data/cell_type_pkl_files/glutamatergic.pkl\", downsample=True)\n",
    "X_train_clean, X_val_clean, X_test_clean = remove_constants(X_train, X_val, X_test)\n",
    "X_train_scaled, X_val_scaled, X_test_scaled = scale_features(X_train_clean, X_val_clean, X_test_clean, 'maxabs', clip=False)"
   ]
  },
  {
   "cell_type": "code",
   "execution_count": 14,
   "metadata": {},
   "outputs": [],
   "source": [
    "to_remove_filepath = calc_genes_to_remove('glutamatergic', X_train, y_train, load = False)\n",
    "# to_remove_filepath = \"/users/acmaytin/csci2952g/final_project/data/preprocessing_output/to_remove_glutamatergic\"\n",
    "X_train_removed, X_val_removed, X_test_removed = remove_collinearity(X_train_scaled, X_val_scaled, X_test_scaled, to_remove_filepath)"
   ]
  },
  {
   "cell_type": "code",
   "execution_count": null,
   "metadata": {},
   "outputs": [],
   "source": [
    "X_train_selected, X_val_selected, X_test_selected = select_features(X_train_removed, X_val_removed, X_test_removed, 'glutamatergic')\n",
    "store_selected_df('glutamatergic', X_train_selected, X_val_selected, X_test_selected)\n",
    "store_tensors('glutamatergic', X_train_selected, X_val_selected, X_test_selected)"
   ]
  }
 ],
 "metadata": {
  "kernelspec": {
   "display_name": "myenv",
   "language": "python",
   "name": "python3"
  },
  "language_info": {
   "codemirror_mode": {
    "name": "ipython",
    "version": 3
   },
   "file_extension": ".py",
   "mimetype": "text/x-python",
   "name": "python",
   "nbconvert_exporter": "python",
   "pygments_lexer": "ipython3",
   "version": "3.9.16"
  }
 },
 "nbformat": 4,
 "nbformat_minor": 2
}
